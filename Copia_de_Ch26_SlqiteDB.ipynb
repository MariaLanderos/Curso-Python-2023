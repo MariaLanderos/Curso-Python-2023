{
  "cells": [
    {
      "cell_type": "markdown",
      "metadata": {
        "id": "view-in-github",
        "colab_type": "text"
      },
      "source": [
        "<a href=\"https://colab.research.google.com/github/MariaLanderos/Curso-Python-2023/blob/main/Copia_de_Ch26_SlqiteDB.ipynb\" target=\"_parent\"><img src=\"https://colab.research.google.com/assets/colab-badge.svg\" alt=\"Open In Colab\"/></a>"
      ]
    },
    {
      "cell_type": "markdown",
      "metadata": {
        "id": "4Sq3Tdh1_pQT"
      },
      "source": [
        "# Sqlite database\n",
        "<a href=\"https://colab.research.google.com/github/rambasnet/FDSPython-Notebooks/blob/master/Ch21-SqliteDB.ipynb\" target=\"_parent\"><img src=\"https://colab.research.google.com/assets/colab-badge.svg\" alt=\"Open In Colab\"/></a>\n",
        "\n",
        "- https://www.sqlite.org/\n",
        "- C-based, one of the most used embedded database (zero configuration)\n",
        "\n",
        "## SQL basics\n",
        "- Structured Query Language\n",
        "- case insensitive language; usually written in uppercase\n",
        "- let's you or program use SQL-based databases such as SQLite, MySQL, MSSQL, PostgreSQL, etc.\n",
        "- most important basic statents to learn: CRUD\n",
        "- C: create (database, table, create and insert records)\n",
        "- R: retrieve/read data\n",
        "- U: update data\n",
        "- D: delete data\n",
        "- http://www.w3schools.com/sql/default.asp\n",
        "\n",
        "## sqlite browser\n",
        "- GUI-based sqlite db explorer\n",
        "- makes it easy to see data and learn SQL\n",
        "- http://sqlitebrowser.org/"
      ]
    },
    {
      "cell_type": "markdown",
      "metadata": {
        "id": "REy5Kk_d_pQW"
      },
      "source": [
        "## sqlite3 module\n",
        "- python3 provides sqlite3 library to work with sqlite database\n",
        "- https://docs.python.org/3/library/sqlite3.html\n",
        "- SQLite natively supports the following types: NULL, INTEGER, REAL, TEXT, BLOB\n",
        "\n",
        "|SQLite type|Python type|\n",
        "| ---|---|\n",
        "| NULL | None |\n",
        "| INTEGER | int |\n",
        "| REAL | float |\n",
        "| TEXT | str |\n",
        "| BLOB | bytes |\n",
        "\n",
        "## in memory db example"
      ]
    },
    {
      "cell_type": "code",
      "execution_count": 1,
      "metadata": {
        "colab": {
          "base_uri": "https://localhost:8080/"
        },
        "id": "uINrPWZp_pQW",
        "outputId": "8018c64c-dad5-4fe8-a411-6f8dafe52c26"
      },
      "outputs": [
        {
          "output_type": "execute_result",
          "data": {
            "text/plain": [
              "<sqlite3.Cursor at 0x7c275d693bc0>"
            ]
          },
          "metadata": {},
          "execution_count": 1
        }
      ],
      "source": [
        "import sqlite3\n",
        "# connect to the memory database\n",
        "con = sqlite3.connect(\":memory:\")\n",
        "\n",
        "# create a table\n",
        "con.execute(\"create table person(fname, lname)\")"
      ]
    },
    {
      "cell_type": "code",
      "execution_count": 2,
      "metadata": {
        "colab": {
          "base_uri": "https://localhost:8080/"
        },
        "id": "Ct6liXY-_pQX",
        "outputId": "8b8f05da-3c00-4e02-f1b7-38cee7263726"
      },
      "outputs": [
        {
          "output_type": "execute_result",
          "data": {
            "text/plain": [
              "<sqlite3.Cursor at 0x7c275e5736c0>"
            ]
          },
          "metadata": {},
          "execution_count": 2
        }
      ],
      "source": [
        "# fill the table with data\n",
        "persons = [('Hugo', 'Boss'), ('Calvin', 'Klien'), ('Benito', 'Juarez')]\n",
        "con.executemany(\"insert into person(fname, lname) values (?, ?)\",\n",
        "                persons)"
      ]
    },
    {
      "cell_type": "code",
      "execution_count": 4,
      "metadata": {
        "colab": {
          "base_uri": "https://localhost:8080/"
        },
        "id": "Cm6Q6cqc_pQX",
        "outputId": "b8396636-0477-4bc9-fed9-e736c86c1500"
      },
      "outputs": [
        {
          "output_type": "stream",
          "name": "stdout",
          "text": [
            "(1, 'Hugo', 'Boss')\n",
            "(2, 'Calvin', 'Klien')\n",
            "(3, 'Benito', 'Juarez')\n"
          ]
        }
      ],
      "source": [
        "# print the table contents\n",
        "for row in con.execute(\"select rowid, fname, lname from person\"):\n",
        "    print(row)"
      ]
    },
    {
      "cell_type": "code",
      "execution_count": 5,
      "metadata": {
        "colab": {
          "base_uri": "https://localhost:8080/"
        },
        "id": "vHT5PiLu_pQY",
        "outputId": "d89a01dc-b546-459a-f7a1-3632cc89d983"
      },
      "outputs": [
        {
          "output_type": "stream",
          "name": "stdout",
          "text": [
            "I just deleted 1 rows\n"
          ]
        }
      ],
      "source": [
        "print(\"I just deleted\", con.execute(\"delete from person where rowid=1\").rowcount,\n",
        "      \"rows\")"
      ]
    },
    {
      "cell_type": "markdown",
      "metadata": {
        "id": "gw0Pdf47_pQY"
      },
      "source": [
        "## db file example\n",
        "### create database, create table and insert data into table"
      ]
    },
    {
      "cell_type": "code",
      "execution_count": 6,
      "metadata": {
        "colab": {
          "base_uri": "https://localhost:8080/"
        },
        "id": "QlkhA68l_pQY",
        "outputId": "1d81b77e-87cc-4924-8b0c-4aa096f0d55a"
      },
      "outputs": [
        {
          "output_type": "execute_result",
          "data": {
            "text/plain": [
              "<sqlite3.Cursor at 0x7c275d5b4a40>"
            ]
          },
          "metadata": {},
          "execution_count": 6
        }
      ],
      "source": [
        "import sqlite3\n",
        "# create connection\n",
        "conn = sqlite3.connect('example.db')\n",
        "# create cursor object\n",
        "cur = conn.cursor()  #conexion\n",
        "\n",
        "cur.execute(\"\"\"CREATE TABLE IF NOT EXISTS students (\n",
        "                firstName text,\n",
        "                lastName text,\n",
        "                test1 real,\n",
        "                test2 real,\n",
        "                average real,\n",
        "                grade text\n",
        "                )\n",
        "            \"\"\")"
      ]
    },
    {
      "cell_type": "code",
      "execution_count": 7,
      "metadata": {
        "colab": {
          "base_uri": "https://localhost:8080/"
        },
        "id": "yqRIBg7g_pQY",
        "outputId": "7acec15c-c3da-4532-f9f6-6e476cb84dcb"
      },
      "outputs": [
        {
          "output_type": "execute_result",
          "data": {
            "text/plain": [
              "<sqlite3.Cursor at 0x7c275d5b4a40>"
            ]
          },
          "metadata": {},
          "execution_count": 7
        }
      ],
      "source": [
        "query = \"\"\" INSERT INTO students (firstName, lastName,\n",
        "            test1, test2) values (?, ?, ?, ?)\n",
        "        \"\"\"\n",
        "cur.execute(query, ('John', 'Smith', 99, 95.5))"
      ]
    },
    {
      "cell_type": "code",
      "execution_count": 8,
      "metadata": {
        "colab": {
          "base_uri": "https://localhost:8080/"
        },
        "id": "Pl217SXZ_pQY",
        "outputId": "097e8a78-1770-4479-fb9a-31a1a95c9107"
      },
      "outputs": [
        {
          "output_type": "execute_result",
          "data": {
            "text/plain": [
              "<sqlite3.Cursor at 0x7c275d5b4a40>"
            ]
          },
          "metadata": {},
          "execution_count": 8
        }
      ],
      "source": [
        "cur.execute(query, ('Michael', 'Jordan', 50, 65))"
      ]
    },
    {
      "cell_type": "code",
      "execution_count": 9,
      "metadata": {
        "id": "-PZY9V_H_pQZ"
      },
      "outputs": [],
      "source": [
        "# save/commit the changes to the db\n",
        "conn.commit()\n",
        "# close the database if done\n",
        "conn.close()"
      ]
    },
    {
      "cell_type": "markdown",
      "metadata": {
        "id": "xkcdighj_pQZ"
      },
      "source": [
        "### open database, read and update table"
      ]
    },
    {
      "cell_type": "code",
      "execution_count": 10,
      "metadata": {
        "id": "6ksJhdKe_pQZ"
      },
      "outputs": [],
      "source": [
        "import sqlite3\n",
        "conn = sqlite3.connect('example.db')\n",
        "cur = conn.cursor()"
      ]
    },
    {
      "cell_type": "code",
      "execution_count": 11,
      "metadata": {
        "colab": {
          "base_uri": "https://localhost:8080/"
        },
        "id": "U7LBfdnl_pQZ",
        "outputId": "23fe9bb7-1a35-452b-af33-656973eeb920"
      },
      "outputs": [
        {
          "output_type": "stream",
          "name": "stdout",
          "text": [
            "('John', 'Smith', 99.0, 95.5, None, None)\n"
          ]
        }
      ],
      "source": [
        "cur.execute('SELECT * FROM students where rowid = 1')\n",
        "row = cur.fetchone() # returns one row as tuple if rowid with value 1 exists\n",
        "print(row)"
      ]
    },
    {
      "cell_type": "code",
      "execution_count": 12,
      "metadata": {
        "colab": {
          "base_uri": "https://localhost:8080/"
        },
        "id": "gsxuPjmF_pQZ",
        "outputId": "8500334c-b271-437e-bb58-f32c76749255"
      },
      "outputs": [
        {
          "output_type": "stream",
          "name": "stdout",
          "text": [
            "John\n",
            "Smith\n",
            "99.0\n",
            "95.5\n",
            "None\n",
            "None\n"
          ]
        }
      ],
      "source": [
        "for col in row:\n",
        "    print(col)"
      ]
    },
    {
      "cell_type": "code",
      "execution_count": 13,
      "metadata": {
        "colab": {
          "base_uri": "https://localhost:8080/"
        },
        "id": "5U-gBmxy_pQZ",
        "outputId": "17b1912b-41a0-4ecb-a732-427af8f33d97"
      },
      "outputs": [
        {
          "output_type": "stream",
          "name": "stdout",
          "text": [
            "<class 'list'>\n"
          ]
        }
      ],
      "source": [
        "cur.execute('SELECT rowid, * FROM students')\n",
        "rows = cur.fetchall()\n",
        "print(type(rows))"
      ]
    },
    {
      "cell_type": "code",
      "execution_count": 14,
      "metadata": {
        "colab": {
          "base_uri": "https://localhost:8080/"
        },
        "id": "L08h6sVv_pQa",
        "outputId": "865a5a16-0318-44e6-bc0b-2db342a0c310"
      },
      "outputs": [
        {
          "output_type": "stream",
          "name": "stdout",
          "text": [
            "(1, 'John', 'Smith', 99.0, 95.5, None, None)\n",
            "(2, 'Michael', 'Jordan', 50.0, 65.0, None, None)\n"
          ]
        }
      ],
      "source": [
        "for row in rows:\n",
        "    print(row)"
      ]
    },
    {
      "cell_type": "markdown",
      "metadata": {
        "id": "qR2GpSYC_pQa"
      },
      "source": [
        "<strong>update table</strong>"
      ]
    },
    {
      "cell_type": "code",
      "execution_count": 15,
      "metadata": {
        "id": "wuABg2g8_pQa"
      },
      "outputs": [],
      "source": [
        "for row in rows:\n",
        "    avg = (row[3] + row[4])/2\n",
        "    # grade = ?\n",
        "    cur.execute('update students set average=? where rowid=?', (avg, row[0]))"
      ]
    },
    {
      "cell_type": "code",
      "execution_count": 16,
      "metadata": {
        "colab": {
          "base_uri": "https://localhost:8080/"
        },
        "id": "XNvVqS6n_pQa",
        "outputId": "b619c48f-61d0-4309-d8e1-55fb5569ce9d"
      },
      "outputs": [
        {
          "output_type": "stream",
          "name": "stdout",
          "text": [
            "[('John', 'Smith', 99.0, 95.5, 97.25, None), ('Michael', 'Jordan', 50.0, 65.0, 57.5, None)]\n"
          ]
        }
      ],
      "source": [
        "cur.execute('select * from students')\n",
        "print(cur.fetchall())"
      ]
    },
    {
      "cell_type": "code",
      "execution_count": 17,
      "metadata": {
        "id": "RtfiF-98_pQa"
      },
      "outputs": [],
      "source": [
        "# commit changes and close connection\n",
        "conn.commit()\n",
        "conn.close()"
      ]
    },
    {
      "cell_type": "markdown",
      "metadata": {
        "id": "6giXI0Cq_pQa"
      },
      "source": [
        "## SQL Injection Vulnerability\n",
        "- how not to write sql query in programs"
      ]
    },
    {
      "cell_type": "code",
      "execution_count": 18,
      "metadata": {
        "colab": {
          "base_uri": "https://localhost:8080/"
        },
        "id": "QpMvZzvb_pQa",
        "outputId": "3731d60f-393f-4d13-b900-768acfc6e3ee"
      },
      "outputs": [
        {
          "output_type": "execute_result",
          "data": {
            "text/plain": [
              "<sqlite3.Cursor at 0x7c275d5b4e40>"
            ]
          },
          "metadata": {},
          "execution_count": 18
        }
      ],
      "source": [
        "import sqlite3\n",
        "conn = sqlite3.connect('example.db')\n",
        "cur = conn.cursor()\n",
        "\n",
        "cur.execute(\"\"\"CREATE TABLE IF NOT EXISTS users (\n",
        "                username text unique,\n",
        "                password text\n",
        "                )\n",
        "            \"\"\")"
      ]
    },
    {
      "cell_type": "code",
      "execution_count": 19,
      "metadata": {
        "colab": {
          "base_uri": "https://localhost:8080/"
        },
        "id": "S9UIP2cn_pQa",
        "outputId": "72ec090b-234b-41a5-aa05-a972424e4875"
      },
      "outputs": [
        {
          "name": "stdout",
          "output_type": "stream",
          "text": [
            "Enter your username: admin\n",
            "Pick a password: sol\n"
          ]
        }
      ],
      "source": [
        "# Prompt user to create account\n",
        "username = input('Enter your username: ')\n",
        "password = input('Pick a password: ')"
      ]
    },
    {
      "cell_type": "code",
      "execution_count": 20,
      "metadata": {
        "colab": {
          "base_uri": "https://localhost:8080/"
        },
        "id": "uy4SKVXU_pQa",
        "outputId": "9f19ee62-3fe3-4078-ce0a-15c0846a0a07"
      },
      "outputs": [
        {
          "output_type": "stream",
          "name": "stdout",
          "text": [
            "insert into users (username, password) values ('admin', 'sol')\n"
          ]
        },
        {
          "output_type": "execute_result",
          "data": {
            "text/plain": [
              "<sqlite3.Cursor at 0x7c275d5b4e40>"
            ]
          },
          "metadata": {},
          "execution_count": 20
        }
      ],
      "source": [
        "# bad passwords\n",
        "# insecure way to create sql statements\n",
        "sqlinsert = \"insert into users (username, password) values ('{0}', '{1}')\".format(username, password)\n",
        "print(sqlinsert)\n",
        "cur.execute(sqlinsert)\n"
      ]
    },
    {
      "cell_type": "code",
      "execution_count": 21,
      "metadata": {
        "colab": {
          "base_uri": "https://localhost:8080/"
        },
        "id": "k4Qvr7Of_pQb",
        "outputId": "2b42ca2a-cbd5-4e50-ba8f-cd57404aa56d"
      },
      "outputs": [
        {
          "output_type": "stream",
          "name": "stdout",
          "text": [
            "('admin', 'sol')\n"
          ]
        }
      ],
      "source": [
        "# check database\n",
        "conn.commit()\n",
        "for row in cur.execute('select * from users'):\n",
        "    print(row)"
      ]
    },
    {
      "cell_type": "markdown",
      "metadata": {
        "id": "VaLcvNBC_pQb"
      },
      "source": [
        "### what is wrong with the above codes?"
      ]
    },
    {
      "cell_type": "markdown",
      "metadata": {
        "id": "RJpi5xD__pQb"
      },
      "source": [
        "### authenticate users and SQL injection attack"
      ]
    },
    {
      "cell_type": "code",
      "execution_count": 22,
      "metadata": {
        "id": "Tpf8JtkR_pQb"
      },
      "outputs": [],
      "source": [
        "# Prompt user to create account\n",
        "def insecureAuthentication():\n",
        "    username = input('Enter your username: ')\n",
        "    password = input('Pick a password: ')\n",
        "    sqlSelect = \"select * from users where username = '{0}' \\\n",
        "                    and password = '{1}'\".format(username, password)\n",
        "    cur.execute(sqlSelect)\n",
        "    row = cur.fetchone()\n",
        "    if row:\n",
        "        print('Welcome {}, this is your kingdom!'.format(row[0]))\n",
        "    else:\n",
        "        print('Wrong credentials. Try Again!')\n"
      ]
    },
    {
      "cell_type": "code",
      "execution_count": 24,
      "metadata": {
        "colab": {
          "base_uri": "https://localhost:8080/"
        },
        "id": "tISJZoBl_pQb",
        "outputId": "e030a730-aa22-4047-8ab0-d7b38a5ad695"
      },
      "outputs": [
        {
          "output_type": "stream",
          "name": "stdout",
          "text": [
            "Enter your username: admin\n",
            "Pick a password: sol\n",
            "Welcome admin, this is your kingdom!\n"
          ]
        }
      ],
      "source": [
        "insecureAuthentication()"
      ]
    },
    {
      "cell_type": "code",
      "execution_count": 25,
      "metadata": {
        "colab": {
          "base_uri": "https://localhost:8080/"
        },
        "id": "W-GhuemM_pQb",
        "outputId": "8c5fbcef-c99c-448b-fbba-af5c1ccab83c"
      },
      "outputs": [
        {
          "output_type": "stream",
          "name": "stdout",
          "text": [
            "Enter your username: admin\n",
            "Pick a password: sol\n",
            "Welcome admin, this is your kingdom!\n"
          ]
        }
      ],
      "source": [
        "# sql injection; authenticate without using password\n",
        "insecureAuthentication()"
      ]
    },
    {
      "cell_type": "markdown",
      "metadata": {
        "id": "qeJa_XdL_pQb"
      },
      "source": [
        "## secure way to store password\n",
        "- https://docs.python.org/3/library/hashlib.html\n"
      ]
    },
    {
      "cell_type": "code",
      "execution_count": 26,
      "metadata": {
        "id": "Qdp-QEPa_pQb"
      },
      "outputs": [],
      "source": [
        "import uuid\n",
        "import hashlib, binascii\n",
        "\n",
        "def createSecurePassword(password, salt=None, round=100000):\n",
        "    if not salt:\n",
        "        salt = uuid.uuid4().hex\n",
        "\n",
        "    \"\"\"\n",
        "    for i in range(round):\n",
        "        password = password+salt\n",
        "        password = hashlib.sha256(password.encode('utf-8')).hexdigest()\n",
        "    \"\"\"\n",
        "    # hashlib.pbkdf2_hmac(hash_name, password, salt, iterations, dklen=None)\n",
        "    dk = hashlib.pbkdf2_hmac('sha256', password.encode('utf-8'),\n",
        "                        salt.encode('utf-8'), round)\n",
        "    password = binascii.hexlify(dk)\n",
        "    return \"%s:%s\"%(password, salt)"
      ]
    },
    {
      "cell_type": "code",
      "execution_count": 27,
      "metadata": {
        "id": "DMA0xo3r_pQc"
      },
      "outputs": [],
      "source": [
        "def secureRegistration():\n",
        "    # Prompt user to create account\n",
        "    username = input('Enter your username: ')\n",
        "    password = input('Enter your password: ')\n",
        "    secPass = createSecurePassword(password)\n",
        "    insert = 'insert into users (username, password) values (?, ?)'\n",
        "    cur.execute(insert, (username, secPass))\n"
      ]
    },
    {
      "cell_type": "code",
      "execution_count": 28,
      "metadata": {
        "colab": {
          "base_uri": "https://localhost:8080/"
        },
        "id": "txlryivO_pQc",
        "outputId": "bcc3767b-24fe-4707-fe6f-d2398f443f55"
      },
      "outputs": [
        {
          "name": "stdout",
          "output_type": "stream",
          "text": [
            "Enter your username: Maria\n",
            "Enter your password: Sol\n"
          ]
        }
      ],
      "source": [
        "# register a user\n",
        "secureRegistration()"
      ]
    },
    {
      "cell_type": "code",
      "execution_count": 29,
      "metadata": {
        "colab": {
          "base_uri": "https://localhost:8080/"
        },
        "id": "F0wwaXKL_pQc",
        "outputId": "067153ff-c287-40fa-c662-a4db9f768c25"
      },
      "outputs": [
        {
          "output_type": "stream",
          "name": "stdout",
          "text": [
            "('admin', 'sol')\n",
            "('Maria', \"b'25fd52f8d77053c4dbcdf4c630d9304b2d397e93035c192bda6e00674672fa4c':a1baca213c5d4b75be9c03c2fcf6cdf7\")\n"
          ]
        }
      ],
      "source": [
        "# check data\n",
        "for row in cur.execute('select * from users'):\n",
        "    print(row)"
      ]
    },
    {
      "cell_type": "code",
      "execution_count": 30,
      "metadata": {
        "id": "6YpiUZhQ_pQc"
      },
      "outputs": [],
      "source": [
        "conn.commit()"
      ]
    },
    {
      "cell_type": "code",
      "execution_count": 31,
      "metadata": {
        "id": "YeDve9Pp_pQc"
      },
      "outputs": [],
      "source": [
        "def secureAuthentication():\n",
        "    username = input('Enter your username: ')\n",
        "    password = input('Enter your password: ')\n",
        "    # use parameterized query\n",
        "    sqlSelect = 'select password from users where username = ?'\n",
        "    cur.execute(sqlSelect, (username,))\n",
        "    row = cur.fetchone()\n",
        "    if row:\n",
        "        # username exists\n",
        "        # check password hashes\n",
        "        hashpass = row[0]\n",
        "        hashedPass = hashpass[:hashpass.find(':')]\n",
        "        salt = hashpass[hashpass.find(':')+1:]\n",
        "        secPass = createSecurePassword(password, salt)\n",
        "        if hashpass == secPass:\n",
        "            print('Welcome to your kingdom, {}'.format(username))\n",
        "        else:\n",
        "            print('Wrong credentials. Try Again!')\n",
        "    else:\n",
        "        print('Wrong credentials. Try Again!')"
      ]
    },
    {
      "cell_type": "code",
      "execution_count": 33,
      "metadata": {
        "colab": {
          "base_uri": "https://localhost:8080/"
        },
        "id": "fU0fsx9q_pQc",
        "outputId": "9966ca80-cf0c-48b7-ca5d-01421a08111f"
      },
      "outputs": [
        {
          "output_type": "stream",
          "name": "stdout",
          "text": [
            "Enter your username: Maria\n",
            "Enter your password: imagina\n",
            "Wrong credentials. Try Again!\n"
          ]
        }
      ],
      "source": [
        "secureAuthentication()"
      ]
    },
    {
      "cell_type": "code",
      "execution_count": 34,
      "metadata": {
        "colab": {
          "base_uri": "https://localhost:8080/"
        },
        "id": "UwzE8Lc0_pQg",
        "outputId": "02767509-553c-4cc4-db55-b8d8012126e6"
      },
      "outputs": [
        {
          "output_type": "stream",
          "name": "stdout",
          "text": [
            "Enter your username: Maria\n",
            "Enter your password: Sol\n",
            "Welcome to your kingdom, Maria\n"
          ]
        }
      ],
      "source": [
        "# try the same SQL injection\n",
        "secureAuthentication()"
      ]
    },
    {
      "cell_type": "code",
      "execution_count": 35,
      "metadata": {
        "id": "p7CMqoT1_pQg"
      },
      "outputs": [],
      "source": [
        "conn.commit()\n",
        "conn.close()"
      ]
    },
    {
      "cell_type": "code",
      "execution_count": null,
      "metadata": {
        "id": "Y13305n5_pQg"
      },
      "outputs": [],
      "source": []
    }
  ],
  "metadata": {
    "kernelspec": {
      "display_name": "Python 3",
      "language": "python",
      "name": "python3"
    },
    "language_info": {
      "codemirror_mode": {
        "name": "ipython",
        "version": 3
      },
      "file_extension": ".py",
      "mimetype": "text/x-python",
      "name": "python",
      "nbconvert_exporter": "python",
      "pygments_lexer": "ipython3",
      "version": "3.7.3"
    },
    "colab": {
      "provenance": [],
      "include_colab_link": true
    }
  },
  "nbformat": 4,
  "nbformat_minor": 0
}