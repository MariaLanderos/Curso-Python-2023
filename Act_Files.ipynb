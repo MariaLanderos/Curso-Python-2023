{
  "nbformat": 4,
  "nbformat_minor": 0,
  "metadata": {
    "colab": {
      "provenance": [],
      "authorship_tag": "ABX9TyO7ftwLclRi8N6dF7NSx5tj",
      "include_colab_link": true
    },
    "kernelspec": {
      "name": "python3",
      "display_name": "Python 3"
    },
    "language_info": {
      "name": "python"
    }
  },
  "cells": [
    {
      "cell_type": "markdown",
      "metadata": {
        "id": "view-in-github",
        "colab_type": "text"
      },
      "source": [
        "<a href=\"https://colab.research.google.com/github/MariaLanderos/Curso-Python-2023/blob/main/Act_Files.ipynb\" target=\"_parent\"><img src=\"https://colab.research.google.com/assets/colab-badge.svg\" alt=\"Open In Colab\"/></a>"
      ]
    },
    {
      "cell_type": "markdown",
      "source": [
        "# Files Input/Output\n",
        "<a href=\"https://colab.research.google.com/github/rambasnet/FDSPython-Notebooks/blob/master/Ch10-Files.ipynb\" target=\"_parent\"><img src=\"https://colab.research.google.com/assets/colab-badge.svg\" alt=\"Open In Colab\"/></a>\n",
        "\n",
        "- data is usually stored in secondary storage medium such as hard drive, flash drive, cd-rw, etc. using named locations called files\n",
        "- files can be organized into folders\n",
        "- programs often need to read data from files and save data back to files for long-term storage\n",
        "- this chapter demostrates how to read and write plain text files\n",
        "- use open() built-in function to work with files\n",
        "```python\n",
        "fileio = open(fileName, mode='r')\n",
        "```\n",
        "- open( ) let's you open file in different mode to read (default), write, append, etc.\n",
        "- see help(open) for details"
      ],
      "metadata": {
        "id": "9HBbAxvACOR_"
      }
    },
    {
      "cell_type": "markdown",
      "source": [
        "#Crear y guardar un archivo\n",
        "1. Se abre el archivo\n",
        "2. Se escribe la info\n",
        "3. Se cierra el archivo"
      ],
      "metadata": {
        "id": "Jn3UxplhCufg"
      }
    },
    {
      "cell_type": "code",
      "execution_count": 1,
      "metadata": {
        "colab": {
          "base_uri": "https://localhost:8080/"
        },
        "id": "s7oHtghRCIta",
        "outputId": "9c2a6c36-a347-455c-94ae-9631f4913402"
      },
      "outputs": [
        {
          "output_type": "stream",
          "name": "stdout",
          "text": [
            "6\n"
          ]
        }
      ],
      "source": [
        "#OLD SCHOOL NO HACERLO ASI\n",
        "fw = open(\"test1.txt\",'w')   #w es write mode\n",
        "fw.write('palabras\\n=====\\n')\n",
        "fw.write('plegable\\nbronce\\caballo\\turbulencia\\n')\n",
        "print(fw.write('cebra\\n'))\n",
        "#fw.close()    #se debe cerrar el archivo para que se escriba la info"
      ]
    },
    {
      "cell_type": "code",
      "source": [
        "#Forma en que se hace actualmente\n",
        "with open(\"words.txt\" ,'w') as file:\n",
        "  file.write(('plegable\\nbronce\\caballo\\turbulencia\\n'))\n",
        "  file.write(str(1))\n",
        "  file.write()"
      ],
      "metadata": {
        "id": "dvNzYrRDEJ4C"
      },
      "execution_count": null,
      "outputs": []
    },
    {
      "cell_type": "code",
      "source": [
        "#Escriba un programa que lea un archivo y escriba un archivo nuevo\n",
        "# con las líneas en orden inverso (es decir, la primera línea del\n",
        "# archivo antiguo se convierte en la última del archivo nuevo).\n",
        "def invertir_lineas(nombre_archivo_entrada, nombre_archivo_salida):\n",
        "    with open(nombre_archivo_entrada, 'r') as archivo_entrada:\n",
        "        lineas = archivo_entrada.readlines()\n",
        "\n",
        "    lineas_invertidas = lineas[::-1]\n",
        "\n",
        "    with open(nombre_archivo_salida, 'w') as archivo_salida:\n",
        "        archivo_salida.writelines(lineas_invertidas)\n",
        "\n",
        "# Nombre del archivo de entrada y salida\n",
        "archivo_entrada = 'entrada.txt'\n",
        "archivo_salida = 'salida.txt'\n",
        "\n",
        "# Llamar a la función para invertir las líneas\n",
        "invertir_lineas(archivo_entrada, archivo_salida)\n",
        "\n",
        "print(f\"Se han invertido las líneas del archivo '{archivo_entrada}' y se han guardado en el archivo '{archivo_salida}'.\")\n",
        "#Este programa utiliza la función open para abrir el archivo de entrada en modo lectura ('r')"
      ],
      "metadata": {
        "colab": {
          "base_uri": "https://localhost:8080/"
        },
        "id": "oM9PTUsWKlA8",
        "outputId": "f512d2d2-2022-44c6-f0d8-722f0fc9be2c"
      },
      "execution_count": 4,
      "outputs": [
        {
          "output_type": "stream",
          "name": "stdout",
          "text": [
            "Se han invertido las líneas del archivo 'entrada.txt' y se han guardado en el archivo 'salida.txt'.\n"
          ]
        }
      ]
    },
    {
      "cell_type": "code",
      "source": [],
      "metadata": {
        "id": "qtYwwAMELGUb"
      },
      "execution_count": null,
      "outputs": []
    }
  ]
}