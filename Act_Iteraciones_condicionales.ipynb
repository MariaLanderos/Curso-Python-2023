{
  "nbformat": 4,
  "nbformat_minor": 0,
  "metadata": {
    "colab": {
      "provenance": [],
      "authorship_tag": "ABX9TyNNdJsjINyr1h1JVL47uzn6",
      "include_colab_link": true
    },
    "kernelspec": {
      "name": "python3",
      "display_name": "Python 3"
    },
    "language_info": {
      "name": "python"
    }
  },
  "cells": [
    {
      "cell_type": "markdown",
      "metadata": {
        "id": "view-in-github",
        "colab_type": "text"
      },
      "source": [
        "<a href=\"https://colab.research.google.com/github/MariaLanderos/Curso-Python-2023/blob/main/Act_Iteraciones_condicionales.ipynb\" target=\"_parent\"><img src=\"https://colab.research.google.com/assets/colab-badge.svg\" alt=\"Open In Colab\"/></a>"
      ]
    },
    {
      "cell_type": "markdown",
      "source": [
        "#5.8 Ejercicios\n",
        "Ejemplo 1. Imprime cada fruta en una lista de frutas\n"
      ],
      "metadata": {
        "id": "Wcg_I0daXuOk"
      }
    },
    {
      "cell_type": "code",
      "execution_count": 1,
      "metadata": {
        "id": "djtUeNmzSuT8",
        "colab": {
          "base_uri": "https://localhost:8080/"
        },
        "outputId": "10648eec-1ead-4574-ebe4-7df8a9731087"
      },
      "outputs": [
        {
          "output_type": "stream",
          "name": "stdout",
          "text": [
            "Fruta 1: manzana\n",
            "Fruta 2: platano\n",
            "Fruta 3: cereza\n"
          ]
        }
      ],
      "source": [
        "fruits = [\"manzana\", \"platano\", \"cereza\"]\n",
        "contador = 0\n",
        "\n",
        "for i in fruits:\n",
        "  contador+=1\n",
        "  #contador = contador+1\n",
        "  #print(\"Fruta\", contador, \" \", i )\n",
        "  print(f\"Fruta {contador}:\", i)"
      ]
    },
    {
      "cell_type": "markdown",
      "source": [
        "Ejercicio: Ajustar el código para que pinte"
      ],
      "metadata": {
        "id": "s9hKKLnSX8Eu"
      }
    },
    {
      "cell_type": "code",
      "source": [
        "adj = [\"roja\", \"grande\", \"dulce\"]\n",
        "fruits = [\"manzana\", \"platano\", \"cereza\"]\n",
        "\n",
        "for x in adj:\n",
        "  for y in fruits:\n",
        "    print(x,y)"
      ],
      "metadata": {
        "colab": {
          "base_uri": "https://localhost:8080/"
        },
        "id": "mFZS9Ol4Xt7B",
        "outputId": "043ea774-f1de-4bd3-8fcb-9b5737f767bf"
      },
      "execution_count": 2,
      "outputs": [
        {
          "output_type": "stream",
          "name": "stdout",
          "text": [
            "roja manzana\n",
            "roja platano\n",
            "roja cereza\n",
            "grande manzana\n",
            "grande platano\n",
            "grande cereza\n",
            "dulce manzana\n",
            "dulce platano\n",
            "dulce cereza\n"
          ]
        }
      ]
    },
    {
      "cell_type": "code",
      "source": [
        "adj = [\"roja\", \"grande\", \"dulce\"]\n",
        "fruits = [\"manzana\", \"platano\", \"cereza\"]\n",
        "\n",
        "a= 1\n",
        "for x in adj:\n",
        "  b= 1\n",
        "  for y in fruits:\n",
        "    print(\"Fruta (\" + str(a) +\",\" + str(b) +\")\" +\":\" + x + \" \" + y)\n",
        "    b = b+1\n",
        "  a += 1"
      ],
      "metadata": {
        "colab": {
          "base_uri": "https://localhost:8080/"
        },
        "id": "jGgQ1B3JYDWp",
        "outputId": "f2fbc414-b0c4-435f-e24d-9bce4f02475b"
      },
      "execution_count": 3,
      "outputs": [
        {
          "output_type": "stream",
          "name": "stdout",
          "text": [
            "Fruta (1,1):roja manzana\n",
            "Fruta (1,2):roja platano\n",
            "Fruta (1,3):roja cereza\n",
            "Fruta (2,1):grande manzana\n",
            "Fruta (2,2):grande platano\n",
            "Fruta (2,3):grande cereza\n",
            "Fruta (3,1):dulce manzana\n",
            "Fruta (3,2):dulce platano\n",
            "Fruta (3,3):dulce cereza\n"
          ]
        }
      ]
    },
    {
      "cell_type": "markdown",
      "source": [
        "Ejercicio A.Escribir un programa que pregunte al usuario su edad y muestre por pantalla todos los años que ha cumplido (desde 1 hasta su edad).\n",
        "\n",
        "¿Cuántos años tienes?  5\n",
        "\n",
        "Has cumplido 1 años\n",
        "\n",
        "Has cumplido 2 años\n",
        "\n",
        "Has cumplido 3 años\n",
        "\n",
        "Has cumplido 4 años\n",
        "\n",
        "Has cumplido 5 años"
      ],
      "metadata": {
        "id": "iAkYu3hDYJWC"
      }
    },
    {
      "cell_type": "code",
      "source": [
        "edad = int(input(\"¿Cuántos años tienes? \"))\n",
        "\n",
        "for edad in range(1, edad + 1):\n",
        "  print('Has cumplido',edad,'años')"
      ],
      "metadata": {
        "colab": {
          "base_uri": "https://localhost:8080/"
        },
        "id": "6mAhFQjuYH8W",
        "outputId": "3bc6d09a-7d4f-46cf-a1c1-ceabb634606d"
      },
      "execution_count": 4,
      "outputs": [
        {
          "output_type": "stream",
          "name": "stdout",
          "text": [
            "¿Cuántos años tienes? 21\n",
            "Has cumplido 1 años\n",
            "Has cumplido 2 años\n",
            "Has cumplido 3 años\n",
            "Has cumplido 4 años\n",
            "Has cumplido 5 años\n",
            "Has cumplido 6 años\n",
            "Has cumplido 7 años\n",
            "Has cumplido 8 años\n",
            "Has cumplido 9 años\n",
            "Has cumplido 10 años\n",
            "Has cumplido 11 años\n",
            "Has cumplido 12 años\n",
            "Has cumplido 13 años\n",
            "Has cumplido 14 años\n",
            "Has cumplido 15 años\n",
            "Has cumplido 16 años\n",
            "Has cumplido 17 años\n",
            "Has cumplido 18 años\n",
            "Has cumplido 19 años\n",
            "Has cumplido 20 años\n",
            "Has cumplido 21 años\n"
          ]
        }
      ]
    },
    {
      "cell_type": "markdown",
      "source": [
        "Ejercicio A2. Realiza un programa que solicita al usuario ingresar números hasta que ingrese 0, luego muestra la suma de los números ingresados.\n"
      ],
      "metadata": {
        "id": "b77792EqYI_Q"
      }
    },
    {
      "cell_type": "code",
      "source": [
        "suma = 0\n",
        "\n",
        "while True:\n",
        "  numero = int(input(\"Ingresa un número (0 para finalizar): \"))\n",
        "  if numero == 0:\n",
        "    print(suma)\n",
        "    break\n",
        "  else:\n",
        "    suma = suma + numero\n",
        "print(f\"La suma de los numeros ingresados es: {suma}\")"
      ],
      "metadata": {
        "colab": {
          "base_uri": "https://localhost:8080/"
        },
        "id": "Mj4lOpbFYZHt",
        "outputId": "f9cd5d5b-c891-48f0-d38e-3d396122db21"
      },
      "execution_count": 5,
      "outputs": [
        {
          "output_type": "stream",
          "name": "stdout",
          "text": [
            "Ingresa un número (0 para finalizar): 14\n",
            "Ingresa un número (0 para finalizar): 6\n",
            "Ingresa un número (0 para finalizar): 0\n",
            "20\n",
            "La suma de los numeros ingresados es: 20\n"
          ]
        }
      ]
    },
    {
      "cell_type": "markdown",
      "source": [
        "6\n",
        "Ejercicio B.\n",
        "Árbol de navidad en Python. Imprime un árbol de navidad formado con * haciendo uso del while y de la multiplicación de un entero por una cadena, cuyo resultado en Python es replicar la cadena."
      ],
      "metadata": {
        "id": "y3z9zuJvYgQW"
      }
    },
    {
      "cell_type": "code",
      "source": [
        "z = 7\n",
        "x = 1\n",
        "while z > 0:\n",
        "    print( ' ' * z+ '*' * x)\n",
        "    x+=2\n",
        "    z-=1\n",
        "\n",
        "#Otra forma de hacerlo\n",
        "'''altura = int(input(\"Ingresa la altura del árbol: \"))\n",
        "\n",
        "# Imprimir parte superior del árbol\n",
        "espacios = altura - 1\n",
        "asteriscos = 1\n",
        "while espacios >= 0:\n",
        "    print(' ' * espacios + '*' * asteriscos)\n",
        "    espacios -= 1\n",
        "    asteriscos += 2'''"
      ],
      "metadata": {
        "colab": {
          "base_uri": "https://localhost:8080/",
          "height": 192
        },
        "id": "jAp8W5VIYcIB",
        "outputId": "eaf2c75f-50a4-4863-9923-7e35f77aacdc"
      },
      "execution_count": 7,
      "outputs": [
        {
          "output_type": "stream",
          "name": "stdout",
          "text": [
            "       *\n",
            "      ***\n",
            "     *****\n",
            "    *******\n",
            "   *********\n",
            "  ***********\n",
            " *************\n"
          ]
        },
        {
          "output_type": "execute_result",
          "data": {
            "text/plain": [
              "'altura = int(input(\"Ingresa la altura del árbol: \"))\\n\\n# Imprimir parte superior del árbol\\nespacios = altura - 1\\nasteriscos = 1\\nwhile espacios >= 0:\\n    print(\\' \\' * espacios + \\'*\\' * asteriscos)\\n    espacios -= 1\\n    asteriscos += 2'"
            ],
            "application/vnd.google.colaboratory.intrinsic+json": {
              "type": "string"
            }
          },
          "metadata": {},
          "execution_count": 7
        }
      ]
    },
    {
      "cell_type": "code",
      "source": [],
      "metadata": {
        "id": "Bs65b_hdY-MM"
      },
      "execution_count": null,
      "outputs": []
    }
  ]
}