{
  "nbformat": 4,
  "nbformat_minor": 0,
  "metadata": {
    "colab": {
      "provenance": [],
      "authorship_tag": "ABX9TyP4+M03URk9G7hy8jYUNF+F",
      "include_colab_link": true
    },
    "kernelspec": {
      "name": "python3",
      "display_name": "Python 3"
    },
    "language_info": {
      "name": "python"
    }
  },
  "cells": [
    {
      "cell_type": "markdown",
      "metadata": {
        "id": "view-in-github",
        "colab_type": "text"
      },
      "source": [
        "<a href=\"https://colab.research.google.com/github/MariaLanderos/Curso-Python-2023/blob/main/Act_clasesGalleta.ipynb\" target=\"_parent\"><img src=\"https://colab.research.google.com/assets/colab-badge.svg\" alt=\"Open In Colab\"/></a>"
      ]
    },
    {
      "cell_type": "markdown",
      "source": [
        "#Actividad\n",
        "Crear la clase **Galleta**, la cual reciba los sig argumentos:\n",
        "- Sabor:string\n",
        "- Diametro: float\n",
        "- Chispas:bool\n",
        "\n",
        "La clase deberá regresar el peso de la galleta. Una galleta Oreo mide 4.4cm de diametro con un peso de 11g.\n",
        "Si la galleta tiene chispas, añade 2gr al peso final.\n",
        "Ejemplo: una galleta con chispas y un diámetro de 4.4 cm, pesará 13gr"
      ],
      "metadata": {
        "id": "dgE-U8N2aZlr"
      }
    },
    {
      "cell_type": "code",
      "execution_count": 52,
      "metadata": {
        "colab": {
          "base_uri": "https://localhost:8080/"
        },
        "id": "_pFOOSRRaWcw",
        "outputId": "11ffbcae-2568-4317-94e4-a88eabbc7c62"
      },
      "outputs": [
        {
          "output_type": "stream",
          "name": "stdout",
          "text": [
            "Sabor: oreo\n",
            "Diametro: 4.4\n",
            "Chispas: True\n",
            "El peso de la galleta es: 13.0 gramos\n"
          ]
        }
      ],
      "source": [
        "class Galleta:\n",
        "    def __init__(self, sabor, diametro, chispas):\n",
        "        self.sabor = str(input(\"Sabor: \"))\n",
        "        self.diametro = float(input(\"Diametro: \"))\n",
        "        self.chispas = bool(input(\"Chispas: \"))\n",
        "\n",
        "    def calcular_peso(self):\n",
        "        self.peso = (self.diametro * 11)/4.4  # Peso base para una galleta Oreo de 4.4 cm de diámetro\n",
        "\n",
        "\n",
        "        if self.chispas == True:\n",
        "            self.peso += 2\n",
        "\n",
        "        return self.peso\n",
        "\n",
        "\n",
        "# Ejemplo de uso:\n",
        "galleta1 = Galleta(sabor=\"Chocolate\", diametro=4.4, chispas=True)  #Con chispas\n",
        "print(f\"El peso de la galleta es: {galleta1.calcular_peso()} gramos\")\n",
        "\n"
      ]
    },
    {
      "cell_type": "code",
      "source": [],
      "metadata": {
        "id": "KYDEGqDRmKF4"
      },
      "execution_count": null,
      "outputs": []
    }
  ]
}