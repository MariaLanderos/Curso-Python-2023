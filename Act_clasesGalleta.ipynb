{
  "nbformat": 4,
  "nbformat_minor": 0,
  "metadata": {
    "colab": {
      "provenance": [],
      "authorship_tag": "ABX9TyMef0p3hnGvI3yLzU+w2KaC",
      "include_colab_link": true
    },
    "kernelspec": {
      "name": "python3",
      "display_name": "Python 3"
    },
    "language_info": {
      "name": "python"
    }
  },
  "cells": [
    {
      "cell_type": "markdown",
      "metadata": {
        "id": "view-in-github",
        "colab_type": "text"
      },
      "source": [
        "<a href=\"https://colab.research.google.com/github/MariaLanderos/Curso-Python-2023/blob/main/Act_clasesGalleta.ipynb\" target=\"_parent\"><img src=\"https://colab.research.google.com/assets/colab-badge.svg\" alt=\"Open In Colab\"/></a>"
      ]
    },
    {
      "cell_type": "markdown",
      "source": [
        "#Actividad\n",
        "Crear la clase **Galleta**, la cual reciba los sig argumentos:\n",
        "- Sabor:string\n",
        "- Diametro: float\n",
        "- Chispas:bool\n",
        "\n",
        "La clase deberá regresar el peso de la galleta. Una galleta Oreo mide 4.4cm de diametro con un peso de 11g.\n",
        "Si la galleta tiene chispas, añade 2gr al peso final.\n",
        "Ejemplo: una galleta con chispas y un diámetro de 4.4 cm, pesará 13gr"
      ],
      "metadata": {
        "id": "dgE-U8N2aZlr"
      }
    },
    {
      "cell_type": "code",
      "execution_count": 1,
      "metadata": {
        "colab": {
          "base_uri": "https://localhost:8080/"
        },
        "id": "_pFOOSRRaWcw",
        "outputId": "cbe9f928-284a-4ee4-ccc0-3ca5ccc5088f"
      },
      "outputs": [
        {
          "output_type": "stream",
          "name": "stdout",
          "text": [
            "El peso de la galleta es: 13 gramos\n"
          ]
        }
      ],
      "source": [
        "class Galleta:\n",
        "    def __init__(self, sabor, diametro, chispas):\n",
        "        self.sabor = sabor\n",
        "        self.diametro = diametro\n",
        "        self.chispas = chispas\n",
        "\n",
        "    def calcular_peso(self):\n",
        "        peso_base = 11  # Peso base para una galleta Oreo de 4.4 cm de diámetro\n",
        "        peso_final = peso_base\n",
        "\n",
        "        if self.chispas:\n",
        "            peso_final += 2\n",
        "\n",
        "        return peso_final\n",
        "\n",
        "# Ejemplo de uso:\n",
        "galleta1 = Galleta(sabor=\"Chocolate\", diametro=4.4, chispas=True)\n",
        "print(f\"El peso de la galleta es: {galleta1.calcular_peso()} gramos\")"
      ]
    },
    {
      "cell_type": "code",
      "source": [],
      "metadata": {
        "id": "tAxcjE27agL5"
      },
      "execution_count": null,
      "outputs": []
    }
  ]
}