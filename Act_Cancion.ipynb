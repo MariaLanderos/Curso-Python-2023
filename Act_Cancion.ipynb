{
  "nbformat": 4,
  "nbformat_minor": 0,
  "metadata": {
    "colab": {
      "provenance": [],
      "authorship_tag": "ABX9TyPiE3ZSWF4eUjUCQHuBOOeO",
      "include_colab_link": true
    },
    "kernelspec": {
      "name": "python3",
      "display_name": "Python 3"
    },
    "language_info": {
      "name": "python"
    }
  },
  "cells": [
    {
      "cell_type": "markdown",
      "metadata": {
        "id": "view-in-github",
        "colab_type": "text"
      },
      "source": [
        "<a href=\"https://colab.research.google.com/github/MariaLanderos/Curso-Python-2023/blob/main/Act_Cancion.ipynb\" target=\"_parent\"><img src=\"https://colab.research.google.com/assets/colab-badge.svg\" alt=\"Open In Colab\"/></a>"
      ]
    },
    {
      "cell_type": "markdown",
      "source": [
        "#Lab Canción  \"No voy a trabajar\""
      ],
      "metadata": {
        "id": "pFeyzd3giWPt"
      }
    },
    {
      "cell_type": "code",
      "execution_count": 2,
      "metadata": {
        "colab": {
          "base_uri": "https://localhost:8080/"
        },
        "id": "HhMVZbtniHu9",
        "outputId": "7ba64181-31db-44c8-b33c-3cd9f008c33e"
      },
      "outputs": [
        {
          "output_type": "stream",
          "name": "stdout",
          "text": [
            "Ingresa el día de la semana: 7\n",
            "DOMINGOO, día de descanso, nien merecido, No vo' a trabajá, no vo' a trabajá\n"
          ]
        }
      ],
      "source": [
        "# Convertir la canción No voy a trabajar a una sentencia tipo if, elif, else para los días de la semana\n",
        "dia = int(input(\"Ingresa el día de la semana: \"))\n",
        "\n",
        "if dia == 1: # o en ves de 1 podemos poner \"Lunes\"\n",
        "  print(\"LUNES, Principio de semana, No vo' a trabajá, no vo' a trabajá\")\n",
        "elif dia == 2:\n",
        "  print(\"MARTES, Ni te cases ni te embarques,No vo' a trabajá, no vo' a trabajá\") #terminar ejercicio\n",
        "elif dia == 3:\n",
        "  print(\"MIERCOLES,se casa la patrona, No vo' a trabajá, no vo' a trabajá \")\n",
        "elif dia == 4:\n",
        "  print(\"JUEVES, estoy muy desvelado, No vo' a trabajá, no vo' a trabajá \")\n",
        "elif dia == 5:\n",
        "  print(\"VIERNES, se muere Jesucristo, No vo' a trabajá, no vo' a trabajá\")\n",
        "elif dia == 6:\n",
        "  print(\"SABADO, trabajo mediodía, No vo' a trabajá, no vo' a trabajá\")\n",
        "elif dia == 7:\n",
        "  print(\"DOMINGOO, día de descanso, nien merecido, No vo' a trabajá, no vo' a trabajá\")\n",
        "else:\n",
        "  print(\"Error\")\n"
      ]
    },
    {
      "cell_type": "code",
      "source": [],
      "metadata": {
        "id": "UBHh6m2pig2W"
      },
      "execution_count": null,
      "outputs": []
    }
  ]
}