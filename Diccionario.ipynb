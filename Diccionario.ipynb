{
  "nbformat": 4,
  "nbformat_minor": 0,
  "metadata": {
    "colab": {
      "provenance": [],
      "authorship_tag": "ABX9TyO7iDu73OFHzG7/3q6ybyyg",
      "include_colab_link": true
    },
    "kernelspec": {
      "name": "python3",
      "display_name": "Python 3"
    },
    "language_info": {
      "name": "python"
    }
  },
  "cells": [
    {
      "cell_type": "markdown",
      "metadata": {
        "id": "view-in-github",
        "colab_type": "text"
      },
      "source": [
        "<a href=\"https://colab.research.google.com/github/MariaLanderos/Curso-Python-2023/blob/main/Diccionario.ipynb\" target=\"_parent\"><img src=\"https://colab.research.google.com/assets/colab-badge.svg\" alt=\"Open In Colab\"/></a>"
      ]
    },
    {
      "cell_type": "markdown",
      "source": [
        "#Diccionarios\n",
        "- Otro tipo dato/contenedor compuesto, similar a las listas y tuplas.\n",
        "- Contenedor de datos muy útil, compuesto por elementos: key(llave)\n",
        "- listas[ ], tuplas()"
      ],
      "metadata": {
        "id": "0ovsSOejs6v2"
      }
    },
    {
      "cell_type": "code",
      "execution_count": 1,
      "metadata": {
        "colab": {
          "base_uri": "https://localhost:8080/"
        },
        "id": "Pk05JkHDsX0u",
        "outputId": "d87ddf2e-f43c-4126-aaf9-08f24dfedee4"
      },
      "outputs": [
        {
          "output_type": "execute_result",
          "data": {
            "text/plain": [
              "dict"
            ]
          },
          "metadata": {},
          "execution_count": 1
        }
      ],
      "source": [
        "mi_primer_diccionario = {}\n",
        "type(mi_primer_diccionario)"
      ]
    },
    {
      "cell_type": "markdown",
      "source": [
        "#Creando diccionarios"
      ],
      "metadata": {
        "id": "1QtCMW3QtdJK"
      }
    },
    {
      "cell_type": "code",
      "source": [
        "#ingles, español\n",
        "ing_esp_dict = {}\n"
      ],
      "metadata": {
        "id": "pUiaDGPxta10"
      },
      "execution_count": 3,
      "outputs": []
    },
    {
      "cell_type": "code",
      "source": [
        "print(ing_esp_dict)"
      ],
      "metadata": {
        "colab": {
          "base_uri": "https://localhost:8080/"
        },
        "id": "bUhnZZ2RtskO",
        "outputId": "0dcd6717-1622-4bc3-8159-24b05f6fa304"
      },
      "execution_count": 8,
      "outputs": [
        {
          "output_type": "stream",
          "name": "stdout",
          "text": [
            "{'one': 'uno', 'two': 'dos', 'three': 'tres', '4': 'cuatro', 'five': '5'}\n"
          ]
        }
      ]
    },
    {
      "cell_type": "code",
      "source": [
        "ing_esp_dict[\"one\"] = \"uno\""
      ],
      "metadata": {
        "id": "dvtjccE_t3I5"
      },
      "execution_count": 5,
      "outputs": []
    },
    {
      "cell_type": "code",
      "source": [
        "#Diccionarios son objetos mutables\n",
        "ing_esp_dict[\"two\"] = \"dos\"\n",
        "ing_esp_dict[\"three\"] = \"tres\"\n",
        "ing_esp_dict[\"4\"] = \"cuatro\"\n",
        "ing_esp_dict[\"five\"] = \"5\""
      ],
      "metadata": {
        "id": "SXawFBTDuEvG"
      },
      "execution_count": 9,
      "outputs": []
    },
    {
      "cell_type": "markdown",
      "source": [
        "#Accediendo a los valores"
      ],
      "metadata": {
        "id": "ChSVuUUHuiWG"
      }
    },
    {
      "cell_type": "code",
      "source": [
        "ing_esp_dict[\"five\"]"
      ],
      "metadata": {
        "colab": {
          "base_uri": "https://localhost:8080/",
          "height": 36
        },
        "id": "K9ni-lcDuQ3a",
        "outputId": "ef715cdd-55a1-4583-97d7-772d786ffd8a"
      },
      "execution_count": 10,
      "outputs": [
        {
          "output_type": "execute_result",
          "data": {
            "text/plain": [
              "'5'"
            ],
            "application/vnd.google.colaboratory.intrinsic+json": {
              "type": "string"
            }
          },
          "metadata": {},
          "execution_count": 10
        }
      ]
    },
    {
      "cell_type": "markdown",
      "source": [
        "Métodos"
      ],
      "metadata": {
        "id": "mWgWzd84urQJ"
      }
    },
    {
      "cell_type": "code",
      "source": [
        "#help(dict)"
      ],
      "metadata": {
        "id": "jQKuHXL3uqJE"
      },
      "execution_count": 11,
      "outputs": []
    },
    {
      "cell_type": "code",
      "source": [
        "ing_esp_dict.keys()"
      ],
      "metadata": {
        "colab": {
          "base_uri": "https://localhost:8080/"
        },
        "id": "PPVGLuvLu0cS",
        "outputId": "71f7186e-f72b-42e5-c381-f51a174ab422"
      },
      "execution_count": 12,
      "outputs": [
        {
          "output_type": "execute_result",
          "data": {
            "text/plain": [
              "dict_keys(['one', 'two', 'three', '4', 'five'])"
            ]
          },
          "metadata": {},
          "execution_count": 12
        }
      ]
    },
    {
      "cell_type": "code",
      "source": [
        "type(ing_esp_dict.keys())"
      ],
      "metadata": {
        "colab": {
          "base_uri": "https://localhost:8080/"
        },
        "id": "-yP_4j0bu5bT",
        "outputId": "a9812cf6-6fd7-4a8d-a102-1ccbd331296b"
      },
      "execution_count": 13,
      "outputs": [
        {
          "output_type": "execute_result",
          "data": {
            "text/plain": [
              "dict_keys"
            ]
          },
          "metadata": {},
          "execution_count": 13
        }
      ]
    },
    {
      "cell_type": "code",
      "source": [
        "for key in ing_esp_dict.keys():\n",
        "  print(f\"Key = {key}, Value = {ing_esp_dict[key]}\")"
      ],
      "metadata": {
        "colab": {
          "base_uri": "https://localhost:8080/"
        },
        "id": "5G0y3Rwvu9vA",
        "outputId": "b97e32af-ac19-41ac-a931-1c3a6cbfdb22"
      },
      "execution_count": 14,
      "outputs": [
        {
          "output_type": "stream",
          "name": "stdout",
          "text": [
            "Key = one, Value = uno\n",
            "Key = two, Value = dos\n",
            "Key = three, Value = tres\n",
            "Key = 4, Value = cuatro\n",
            "Key = five, Value = 5\n"
          ]
        }
      ]
    },
    {
      "cell_type": "code",
      "source": [
        "ing_esp_dict.values()  #me regresa los valores"
      ],
      "metadata": {
        "colab": {
          "base_uri": "https://localhost:8080/"
        },
        "id": "oid6ghYDvev2",
        "outputId": "ae2cfba3-979f-4ca6-ceb6-9330d200fe96"
      },
      "execution_count": 16,
      "outputs": [
        {
          "output_type": "execute_result",
          "data": {
            "text/plain": [
              "dict_values(['uno', 'dos', 'tres', 'cuatro', '5'])"
            ]
          },
          "metadata": {},
          "execution_count": 16
        }
      ]
    },
    {
      "cell_type": "code",
      "source": [
        "for value in ing_esp_dict.values():  #accedemos solo a los valores\n",
        "  print(f\"Value = {value}\")"
      ],
      "metadata": {
        "colab": {
          "base_uri": "https://localhost:8080/"
        },
        "id": "c_74ptBSvskH",
        "outputId": "7294710f-3212-4b06-cd09-f736c3d2521a"
      },
      "execution_count": 18,
      "outputs": [
        {
          "output_type": "stream",
          "name": "stdout",
          "text": [
            "Value = uno\n",
            "Value = dos\n",
            "Value = tres\n",
            "Value = cuatro\n",
            "Value = 5\n"
          ]
        }
      ]
    },
    {
      "cell_type": "code",
      "source": [
        "ing_esp_dict.items()"
      ],
      "metadata": {
        "colab": {
          "base_uri": "https://localhost:8080/"
        },
        "id": "RmaL9_Xtv48X",
        "outputId": "39c50479-7f5f-417c-bb87-94c33a7aca25"
      },
      "execution_count": 19,
      "outputs": [
        {
          "output_type": "execute_result",
          "data": {
            "text/plain": [
              "dict_items([('one', 'uno'), ('two', 'dos'), ('three', 'tres'), ('4', 'cuatro'), ('five', '5')])"
            ]
          },
          "metadata": {},
          "execution_count": 19
        }
      ]
    },
    {
      "cell_type": "code",
      "source": [
        "for key , value in ing_esp_dict.items():\n",
        "  print(f\"Key = {key}, Value = {value}\")"
      ],
      "metadata": {
        "colab": {
          "base_uri": "https://localhost:8080/"
        },
        "id": "hobMt0UEwBKS",
        "outputId": "ed960d05-ebf1-4801-a964-be08bf0b802b"
      },
      "execution_count": 20,
      "outputs": [
        {
          "output_type": "stream",
          "name": "stdout",
          "text": [
            "Key = one, Value = uno\n",
            "Key = two, Value = dos\n",
            "Key = three, Value = tres\n",
            "Key = 4, Value = cuatro\n",
            "Key = five, Value = 5\n"
          ]
        }
      ]
    },
    {
      "cell_type": "markdown",
      "source": [
        "#Revisando llaves con operadores"
      ],
      "metadata": {
        "id": "3PyGGCSVwk46"
      }
    },
    {
      "cell_type": "code",
      "source": [
        "\"one\" in ing_esp_dict"
      ],
      "metadata": {
        "colab": {
          "base_uri": "https://localhost:8080/"
        },
        "id": "U9-93kmmwXor",
        "outputId": "f83f5e41-1ef4-478f-9372-9617a8af71f2"
      },
      "execution_count": 21,
      "outputs": [
        {
          "output_type": "execute_result",
          "data": {
            "text/plain": [
              "True"
            ]
          },
          "metadata": {},
          "execution_count": 21
        }
      ]
    },
    {
      "cell_type": "code",
      "source": [
        "\"four\" in ing_esp_dict"
      ],
      "metadata": {
        "colab": {
          "base_uri": "https://localhost:8080/"
        },
        "id": "AcZir6Wtwtst",
        "outputId": "18c8f75a-b449-40b8-8c9a-e9b786975142"
      },
      "execution_count": 22,
      "outputs": [
        {
          "output_type": "execute_result",
          "data": {
            "text/plain": [
              "False"
            ]
          },
          "metadata": {},
          "execution_count": 22
        }
      ]
    },
    {
      "cell_type": "code",
      "source": [],
      "metadata": {
        "id": "tAK5epyzwwRK"
      },
      "execution_count": null,
      "outputs": []
    }
  ]
}