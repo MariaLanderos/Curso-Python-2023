{
  "nbformat": 4,
  "nbformat_minor": 0,
  "metadata": {
    "colab": {
      "provenance": [],
      "include_colab_link": true
    },
    "kernelspec": {
      "name": "python3",
      "display_name": "Python 3"
    },
    "language_info": {
      "name": "python"
    }
  },
  "cells": [
    {
      "cell_type": "markdown",
      "metadata": {
        "id": "view-in-github",
        "colab_type": "text"
      },
      "source": [
        "<a href=\"https://colab.research.google.com/github/MariaLanderos/Curso-Python-2023/blob/main/Copia_de_Ch_12_Modulos.ipynb\" target=\"_parent\"><img src=\"https://colab.research.google.com/assets/colab-badge.svg\" alt=\"Open In Colab\"/></a>"
      ]
    },
    {
      "cell_type": "markdown",
      "metadata": {
        "id": "9Az3MvFf5txL"
      },
      "source": [
        "# Módulos\n",
        "\n",
        "## ¿Qué es un módulo?\n",
        "Nos permite mantener organizado nuestro código: funciones, clases, variables y código ejecutable\n",
        "<br>\n",
        "Un módulo es un objeto de Python al que nos podemos enlazar.\n",
        "<br>\n",
        "- Tiene una extensión **.py**\n",
        "- Los modulos pueden ser importados en otros módulos, para evitar copiar y pegar una función en otros lados.\n",
        "- Mantener organizado el código\n",
        "- Ayuda a que nuestro código sea mantenible\n"
      ]
    },
    {
      "cell_type": "markdown",
      "metadata": {
        "id": "jKNS5wfWgZED"
      },
      "source": [
        "## Estructura de un módulo\n",
        "\n",
        "mi_primer_modulo.py\n",
        "\n",
        "```python\n",
        "#!/usr/bin/python3         # Parte I\n",
        "#-*- coding: utf-8 -*-     # Parte II\n",
        "\n",
        "# Parte III\n",
        "\n",
        "\"\"\"Programa con funciones básicas aritméticas\"\"\"      \n",
        "\n",
        "# Variables del módulo\n",
        "\n",
        "__author__ = \"Cuauhtémoc\" # Parte IV\n",
        "__version__ = \"1.0\"\n",
        "__status__ = \"Development\"\n",
        "\n",
        "\n",
        "# Parte V\n",
        "\n",
        "import math\n",
        "\n",
        "# Parte VI\n",
        "\n",
        "VALOR_PI = round(math.pi, 7)\n",
        "\n",
        "def suma_dos_numeros(x, y):\n",
        "    \"\"\"Calcula la suma de dos números\"\"\"\n",
        "    return x + y\n",
        "\n",
        "def resta_dos_numeros(x, y):\n",
        "    \"\"\"Calcula la resta de dos números\"\"\"\n",
        "    return x - y\n",
        "\n",
        "# Parte VII\n",
        "\n",
        "if __name__ == \"__main__\":\n",
        "    x = int(input(\"Ingresa el primer número: \") )\n",
        "    y = int(input(\"Ingresa el segundo número: \"))\n",
        "    resultado = suma_dos_numeros(x, y)\n",
        "    print(f\"La suma de el número {x} + {y} = {resultado}\")\n",
        "\n",
        "    print('Cálculo finalizado')\n",
        "```"
      ]
    },
    {
      "cell_type": "markdown",
      "metadata": {
        "id": "10Ot92IHl7Cn"
      },
      "source": [
        "Entonces:\n",
        "<br>\n",
        "- Parte I y II son comentarios estándar.\n",
        "- Parte I nos dice donde esta el interprete localizado, así el sistema operativo sabrá que es un script de pyhon (Shebang line)\n",
        "- Parte II indica que el archivo esta codificado en **utf-8**, como parte del PEP, que recomienda definir las codificaciones del código fuente (Codificación)\n",
        "- III es una buena práctica descricribir la anotación del documento.  (Anotación del documento)\n",
        "- IV usa la variable `__author__` para escribir el autor del modulo\n",
        "- V la zona utilizada para colocar las librerías que necesita nuestro módulo\n",
        "- VI es donde ponemos nuestro código\n",
        "- VII es usado para que nuesto módulo pueda realizar dos acciones, uno si es importado desde otro módulo  o si se cumple la condición de ser el modulo principal(al ser ejecutado directamente en una consola), realizará lo que esta en el código.\n"
      ]
    },
    {
      "cell_type": "code",
      "source": [
        "#conectar este drive a nuestro archivo de colab\n",
        "from google.colab import drive\n",
        "drive.mount('/content/drive')"
      ],
      "metadata": {
        "colab": {
          "base_uri": "https://localhost:8080/"
        },
        "id": "jEtcOtEDEnkv",
        "outputId": "36dfee96-0bd5-434f-a018-ff0d9254f5c3"
      },
      "execution_count": null,
      "outputs": [
        {
          "output_type": "stream",
          "name": "stdout",
          "text": [
            "Mounted at /content/drive\n"
          ]
        }
      ]
    },
    {
      "cell_type": "code",
      "source": [
        "import pandas"
      ],
      "metadata": {
        "id": "XwIV2-PQzLKH"
      },
      "execution_count": null,
      "outputs": []
    },
    {
      "cell_type": "code",
      "source": [
        "pandas.__version__"
      ],
      "metadata": {
        "id": "kXqBYA-EhfDg",
        "colab": {
          "base_uri": "https://localhost:8080/",
          "height": 36
        },
        "outputId": "e764f532-97a6-4224-bafd-9642b2305deb"
      },
      "execution_count": null,
      "outputs": [
        {
          "output_type": "execute_result",
          "data": {
            "text/plain": [
              "'1.5.3'"
            ],
            "application/vnd.google.colaboratory.intrinsic+json": {
              "type": "string"
            }
          },
          "metadata": {},
          "execution_count": 2
        }
      ]
    },
    {
      "cell_type": "code",
      "metadata": {
        "id": "AY62k3cYgYfL",
        "colab": {
          "base_uri": "https://localhost:8080/"
        },
        "outputId": "d7777cc6-e2b3-40ce-da6c-710ffd267698"
      },
      "source": [
        "import pandas as pd\n",
        "\n",
        "print(f'Valor dentro de la variable especial __name__ : {pd.__name__}')"
      ],
      "execution_count": null,
      "outputs": [
        {
          "output_type": "stream",
          "name": "stdout",
          "text": [
            "Valor dentro de la variable especial __name__ : pandas\n"
          ]
        }
      ]
    },
    {
      "cell_type": "code",
      "source": [
        "#help(pd.DataFrame)"
      ],
      "metadata": {
        "id": "IGAf6fUvzp2j"
      },
      "execution_count": 2,
      "outputs": []
    },
    {
      "cell_type": "code",
      "metadata": {
        "id": "WDKZrMzbsz3U",
        "colab": {
          "base_uri": "https://localhost:8080/",
          "height": 36
        },
        "outputId": "2fa15fd4-b595-48f6-a894-99ebcd29fa73"
      },
      "source": [
        "pd.__version__"
      ],
      "execution_count": null,
      "outputs": [
        {
          "output_type": "execute_result",
          "data": {
            "text/plain": [
              "'1.5.3'"
            ],
            "application/vnd.google.colaboratory.intrinsic+json": {
              "type": "string"
            }
          },
          "metadata": {},
          "execution_count": 5
        }
      ]
    },
    {
      "cell_type": "markdown",
      "metadata": {
        "id": "K96OKWvqdell"
      },
      "source": [
        "# Pip Instalador de Python\n",
        "\n",
        "Es un gestor de paquetes que nos utilizaremos para instalar y administrar paquetes de software (módulos)."
      ]
    },
    {
      "cell_type": "code",
      "source": [
        "import PyPDF2"
      ],
      "metadata": {
        "id": "SxToWLD6z5or"
      },
      "execution_count": null,
      "outputs": []
    },
    {
      "cell_type": "code",
      "metadata": {
        "id": "2GuYk6YbdMW0",
        "colab": {
          "base_uri": "https://localhost:8080/"
        },
        "outputId": "0e28288a-c949-4efd-a085-f9e41a7fb745"
      },
      "source": [
        "!pip install pandas"
      ],
      "execution_count": null,
      "outputs": [
        {
          "output_type": "stream",
          "name": "stdout",
          "text": [
            "Requirement already satisfied: pandas in /usr/local/lib/python3.10/dist-packages (1.5.3)\n",
            "Requirement already satisfied: python-dateutil>=2.8.1 in /usr/local/lib/python3.10/dist-packages (from pandas) (2.8.2)\n",
            "Requirement already satisfied: pytz>=2020.1 in /usr/local/lib/python3.10/dist-packages (from pandas) (2022.7.1)\n",
            "Requirement already satisfied: numpy>=1.21.0 in /usr/local/lib/python3.10/dist-packages (from pandas) (1.22.4)\n",
            "Requirement already satisfied: six>=1.5 in /usr/local/lib/python3.10/dist-packages (from python-dateutil>=2.8.1->pandas) (1.16.0)\n"
          ]
        }
      ]
    },
    {
      "cell_type": "code",
      "metadata": {
        "id": "aFD23GNxeIqQ",
        "colab": {
          "base_uri": "https://localhost:8080/"
        },
        "outputId": "0e4fdf65-1620-4bdb-c033-6857fe3b2038"
      },
      "source": [
        "!pip install PyPDF2"
      ],
      "execution_count": null,
      "outputs": [
        {
          "output_type": "stream",
          "name": "stdout",
          "text": [
            "Collecting PyPDF2\n",
            "  Downloading pypdf2-3.0.1-py3-none-any.whl (232 kB)\n",
            "\u001b[?25l     \u001b[90m━━━━━━━━━━━━━━━━━━━━━━━━━━━━━━━━━━━━━━━━\u001b[0m \u001b[32m0.0/232.6 kB\u001b[0m \u001b[31m?\u001b[0m eta \u001b[36m-:--:--\u001b[0m\r\u001b[2K     \u001b[91m━━━━━━━━━━\u001b[0m\u001b[91m╸\u001b[0m\u001b[90m━━━━━━━━━━━━━━━━━━━━━━━━━━━━━\u001b[0m \u001b[32m61.4/232.6 kB\u001b[0m \u001b[31m1.8 MB/s\u001b[0m eta \u001b[36m0:00:01\u001b[0m\r\u001b[2K     \u001b[90m━━━━━━━━━━━━━━━━━━━━━━━━━━━━━━━━━━━━━━━\u001b[0m \u001b[32m232.6/232.6 kB\u001b[0m \u001b[31m3.6 MB/s\u001b[0m eta \u001b[36m0:00:00\u001b[0m\n",
            "\u001b[?25hInstalling collected packages: PyPDF2\n",
            "Successfully installed PyPDF2-3.0.1\n"
          ]
        }
      ]
    },
    {
      "cell_type": "markdown",
      "metadata": {
        "id": "bIDGiMaaenxf"
      },
      "source": [
        "## Índice de paquetes de Python [PYPi](https://pypi.org/)\n",
        "\n",
        "<br>\n",
        "\n",
        "El **Python Package Index** o PyPI es un repositorio del software oficial de aplicaciones desarrolladas por terceros en Python.\n",
        "<br>\n",
        "Tiene como objetivo ser un catálogo exhaustivo de todos los paquetes de Python\n",
        "\n",
        "[Wikipedia](https://es.wikipedia.org/wiki/%C3%8Dndice_de_paquetes_de_Python)"
      ]
    },
    {
      "cell_type": "markdown",
      "metadata": {
        "id": "fGDkGo5XfjrQ"
      },
      "source": [
        "# Import\n",
        "<br>\n",
        "Es utilizada para importar módulos, ya sea de la librería estándar de Python o de terceros.\n",
        "<br>\n",
        "\n",
        "\n",
        "```python\n",
        "import <modulo>\n",
        "```\n",
        "\n"
      ]
    },
    {
      "cell_type": "markdown",
      "metadata": {
        "id": "FPNYRnD-gSqs"
      },
      "source": [
        "Existen varias maneras de importar un módulo\n",
        "\n",
        "\n",
        "```python\n",
        "# importa el módulo math\n",
        "import math\n",
        "\n",
        "# importa el módulo llamándolo M\n",
        "import math as M\n",
        "\n",
        "# importa las funciones sin, cos y  pi de math\n",
        "from math import sin, cos, pi\n",
        "\n",
        "# importa todas las funciones de math\n",
        "from math import *\n",
        "```\n",
        "\n"
      ]
    },
    {
      "cell_type": "code",
      "metadata": {
        "id": "S0QMnj_0dMTY"
      },
      "source": [
        "import math"
      ],
      "execution_count": null,
      "outputs": []
    },
    {
      "cell_type": "code",
      "metadata": {
        "id": "MezsGmd3dMQo"
      },
      "source": [
        "#help(math)"
      ],
      "execution_count": 3,
      "outputs": []
    },
    {
      "cell_type": "code",
      "source": [
        "import math"
      ],
      "metadata": {
        "id": "DGh51I-73foX"
      },
      "execution_count": null,
      "outputs": []
    },
    {
      "cell_type": "code",
      "source": [
        "type(math.isnan)"
      ],
      "metadata": {
        "colab": {
          "base_uri": "https://localhost:8080/"
        },
        "id": "W13lnWn7cHai",
        "outputId": "5557f552-3423-4d9e-b1dc-e4a25a38f95c"
      },
      "execution_count": null,
      "outputs": [
        {
          "output_type": "execute_result",
          "data": {
            "text/plain": [
              "builtin_function_or_method"
            ]
          },
          "metadata": {},
          "execution_count": 11
        }
      ]
    },
    {
      "cell_type": "code",
      "source": [
        "# numpy tiene isnan\n",
        "# pyspark tiene isnan\n",
        "\n",
        "math.isnan(math.nan)"
      ],
      "metadata": {
        "id": "zMvTXMtx4d2v",
        "colab": {
          "base_uri": "https://localhost:8080/"
        },
        "outputId": "ba86a08d-27b8-4543-def5-d92917ff8d46"
      },
      "execution_count": null,
      "outputs": [
        {
          "output_type": "execute_result",
          "data": {
            "text/plain": [
              "True"
            ]
          },
          "metadata": {},
          "execution_count": 10
        }
      ]
    },
    {
      "cell_type": "code",
      "source": [
        "from math import *"
      ],
      "metadata": {
        "id": "pSDWJ32I4Tsl"
      },
      "execution_count": null,
      "outputs": []
    },
    {
      "cell_type": "code",
      "source": [
        "isnan(nan)"
      ],
      "metadata": {
        "id": "1Ltud-Mm4Y3Y",
        "colab": {
          "base_uri": "https://localhost:8080/"
        },
        "outputId": "4a44ba15-b545-424b-a4f2-d9f4ad1d3cd8"
      },
      "execution_count": null,
      "outputs": [
        {
          "output_type": "execute_result",
          "data": {
            "text/plain": [
              "True"
            ]
          },
          "metadata": {},
          "execution_count": 13
        }
      ]
    },
    {
      "cell_type": "code",
      "metadata": {
        "id": "xC2JDmWnumFe"
      },
      "source": [
        "import math as M"
      ],
      "execution_count": null,
      "outputs": []
    },
    {
      "cell_type": "code",
      "metadata": {
        "id": "8pVrcn-9upgI",
        "colab": {
          "base_uri": "https://localhost:8080/"
        },
        "outputId": "961609fb-c5a3-4e9d-8c45-cbb8edd62381"
      },
      "source": [
        "M.pi"
      ],
      "execution_count": null,
      "outputs": [
        {
          "output_type": "execute_result",
          "data": {
            "text/plain": [
              "3.141592653589793"
            ]
          },
          "metadata": {},
          "execution_count": 15
        }
      ]
    },
    {
      "cell_type": "code",
      "source": [
        "3.141592653589793"
      ],
      "metadata": {
        "id": "ViRXpBXV6SCZ"
      },
      "execution_count": null,
      "outputs": []
    },
    {
      "cell_type": "code",
      "source": [
        "20.01"
      ],
      "metadata": {
        "id": "gsg_ga086h4a"
      },
      "execution_count": null,
      "outputs": []
    },
    {
      "cell_type": "code",
      "source": [
        "DOLAR_2020 = 20.01"
      ],
      "metadata": {
        "id": "A2NZhEny6hxg"
      },
      "execution_count": null,
      "outputs": []
    },
    {
      "cell_type": "code",
      "source": [
        "DOLAR_2020"
      ],
      "metadata": {
        "id": "IoCJq4SB6qRu"
      },
      "execution_count": null,
      "outputs": []
    },
    {
      "cell_type": "code",
      "metadata": {
        "id": "SjQUKQM5ut_G"
      },
      "source": [
        "from math import sin, cos, pi"
      ],
      "execution_count": null,
      "outputs": []
    },
    {
      "cell_type": "code",
      "metadata": {
        "id": "oyj-axKNu0y3",
        "colab": {
          "base_uri": "https://localhost:8080/"
        },
        "outputId": "fd98e3d0-e76e-4fa6-e6de-404dcd834cea"
      },
      "source": [
        "sin # math.sin o M.sin"
      ],
      "execution_count": null,
      "outputs": [
        {
          "output_type": "execute_result",
          "data": {
            "text/plain": [
              "<function math.sin(x, /)>"
            ]
          },
          "metadata": {},
          "execution_count": 17
        }
      ]
    },
    {
      "cell_type": "code",
      "metadata": {
        "id": "0m7OzXo4u2Xq",
        "colab": {
          "base_uri": "https://localhost:8080/"
        },
        "outputId": "3725bdb2-f4e8-41e9-fa78-643553f46b08"
      },
      "source": [
        "pi"
      ],
      "execution_count": null,
      "outputs": [
        {
          "output_type": "execute_result",
          "data": {
            "text/plain": [
              "3.141592653589793"
            ]
          },
          "metadata": {},
          "execution_count": 18
        }
      ]
    },
    {
      "cell_type": "code",
      "source": [
        "from math import sin"
      ],
      "metadata": {
        "id": "Mulo4FyQ7H4V"
      },
      "execution_count": null,
      "outputs": []
    },
    {
      "cell_type": "code",
      "source": [
        "help(sin)"
      ],
      "metadata": {
        "id": "t6HwLd0C7Kan",
        "colab": {
          "base_uri": "https://localhost:8080/"
        },
        "outputId": "8a1d85bf-3898-4ba4-a4d7-001dee97d561"
      },
      "execution_count": null,
      "outputs": [
        {
          "output_type": "stream",
          "name": "stdout",
          "text": [
            "Help on built-in function sin in module math:\n",
            "\n",
            "sin(x, /)\n",
            "    Return the sine of x (measured in radians).\n",
            "\n"
          ]
        }
      ]
    },
    {
      "cell_type": "code",
      "metadata": {
        "id": "LC0a1r5-vcBy"
      },
      "source": [
        "from math import sin as funcion_seno"
      ],
      "execution_count": null,
      "outputs": []
    },
    {
      "cell_type": "code",
      "source": [
        "help(funcion_seno)"
      ],
      "metadata": {
        "id": "ZO4izgRu7GU4"
      },
      "execution_count": null,
      "outputs": []
    },
    {
      "cell_type": "code",
      "metadata": {
        "id": "vkv5y894vfpO"
      },
      "source": [
        "print(funcion_seno)"
      ],
      "execution_count": null,
      "outputs": []
    },
    {
      "cell_type": "markdown",
      "metadata": {
        "id": "eBJqdLmmvyi5"
      },
      "source": [
        "## Importando librerías personalizadas\n",
        "<br>\n",
        "Si nosotros queremos importar nuestra librería personalizada, tenemos que realizar los siguientes pasos:\n",
        "<br>"
      ]
    },
    {
      "cell_type": "code",
      "metadata": {
        "id": "lms-eBOwwJXI",
        "colab": {
          "base_uri": "https://localhost:8080/"
        },
        "outputId": "eb8680f1-728b-4509-beed-5fe5f5c172cf"
      },
      "source": [
        "# Conectar nuestro drive a este archivo de colab\n",
        "from google.colab import drive\n",
        "drive.mount('/content/gdrive')"
      ],
      "execution_count": 4,
      "outputs": [
        {
          "output_type": "stream",
          "name": "stdout",
          "text": [
            "Mounted at /content/gdrive\n"
          ]
        }
      ]
    },
    {
      "cell_type": "code",
      "metadata": {
        "id": "hp4AgK3n9fsk"
      },
      "source": [
        "# Leyendo una tabla\n",
        "import pandas as pd\n",
        "df = pd.read_csv(r\"/content/gdrive/MyDrive/Colab Notebooks/frutas_temporada.csv\",\n",
        "                 encoding='latin1')"
      ],
      "execution_count": null,
      "outputs": []
    },
    {
      "cell_type": "code",
      "metadata": {
        "id": "biv_2GPd-LgV"
      },
      "source": [
        "df"
      ],
      "execution_count": null,
      "outputs": []
    },
    {
      "cell_type": "markdown",
      "metadata": {
        "id": "boRs_G0cR_8T"
      },
      "source": [
        "Nota:\n",
        "Usamos el signo de exclamación `!` para ejecutar un comando sobre la línea de comandos del sistema (consola de Linux) y no usando Python."
      ]
    },
    {
      "cell_type": "code",
      "metadata": {
        "id": "DCRVLDvNRRzK",
        "colab": {
          "base_uri": "https://localhost:8080/"
        },
        "outputId": "9900ea81-8e5e-49bc-a8f1-2116af2270eb"
      },
      "source": [
        "!echo \"Imprimiendo desde el shell\" # echo is como la función print en Python"
      ],
      "execution_count": 5,
      "outputs": [
        {
          "output_type": "stream",
          "name": "stdout",
          "text": [
            "Imprimiendo desde el shell\n"
          ]
        }
      ]
    },
    {
      "cell_type": "code",
      "metadata": {
        "id": "VF-prC9MHVwv",
        "colab": {
          "base_uri": "https://localhost:8080/"
        },
        "outputId": "fd03c41f-2112-41e0-ea60-649ae1f485de"
      },
      "source": [
        "!python mi_primer_modulo.py"
      ],
      "execution_count": 6,
      "outputs": [
        {
          "output_type": "stream",
          "name": "stdout",
          "text": [
            "Ingresa el primer número: 5\n",
            "Ingresa el segundo número: 6\n",
            "La suma de el número 5 + 6 = 11\n",
            "Cálculo finalizado\n"
          ]
        }
      ]
    },
    {
      "cell_type": "code",
      "metadata": {
        "id": "yykQECIISk2L",
        "colab": {
          "base_uri": "https://localhost:8080/"
        },
        "outputId": "3a417dd4-3bd6-4e9e-d80b-f65acc9b7f16"
      },
      "source": [
        "# El comando ls nos permite ver los archivos y directorios\n",
        "# que tenemos dentro del directorio en el que estamos.\n",
        "!ls"
      ],
      "execution_count": 7,
      "outputs": [
        {
          "output_type": "stream",
          "name": "stdout",
          "text": [
            "drive  gdrive  mi_primer_modulo.py  sample_data\n"
          ]
        }
      ]
    },
    {
      "cell_type": "code",
      "metadata": {
        "id": "JNh005oSwTQi"
      },
      "source": [
        "# /content/gdrive/MyDrive/Colab Notebooks/Python Basics/mi_primer_modulo.py\n",
        "#!python /content/gdrive/MyDrive/Colab\\ Notebooks/Diplomado-DS/mi_primer_modulo.py"
      ],
      "execution_count": null,
      "outputs": []
    },
    {
      "cell_type": "code",
      "metadata": {
        "id": "r2uW8bOT3tVI"
      },
      "source": [
        "# cp sirve para copiar archivos y directorios\n",
        "#!cp /content/gdrive/MyDrive/Colab\\ Notebooks/Python\\ Basics/mi_primer_modulo.py ."
      ],
      "execution_count": null,
      "outputs": []
    },
    {
      "cell_type": "code",
      "metadata": {
        "id": "HvR_BhuN5cjd"
      },
      "source": [
        "#!python mi_primer_modulo.py"
      ],
      "execution_count": null,
      "outputs": []
    },
    {
      "cell_type": "code",
      "metadata": {
        "id": "_ZaF0SIhywD7"
      },
      "source": [
        "import mi_primer_modulo as pm"
      ],
      "execution_count": 8,
      "outputs": []
    },
    {
      "cell_type": "code",
      "metadata": {
        "id": "wz48USyG8rgA",
        "colab": {
          "base_uri": "https://localhost:8080/",
          "height": 36
        },
        "outputId": "977a5126-17d0-4a6a-b107-84881c64f822"
      },
      "source": [
        "pm.__name__"
      ],
      "execution_count": 9,
      "outputs": [
        {
          "output_type": "execute_result",
          "data": {
            "text/plain": [
              "'mi_primer_modulo'"
            ],
            "application/vnd.google.colaboratory.intrinsic+json": {
              "type": "string"
            }
          },
          "metadata": {},
          "execution_count": 9
        }
      ]
    },
    {
      "cell_type": "code",
      "source": [],
      "metadata": {
        "id": "TOExYC2kIMHY"
      },
      "execution_count": null,
      "outputs": []
    },
    {
      "cell_type": "code",
      "metadata": {
        "id": "DULNpYEKy9qY",
        "colab": {
          "base_uri": "https://localhost:8080/"
        },
        "outputId": "020dab40-b366-4eab-f9b5-b6c9ea9a8463"
      },
      "source": [
        "help(pm)"
      ],
      "execution_count": 10,
      "outputs": [
        {
          "output_type": "stream",
          "name": "stdout",
          "text": [
            "Help on module mi_primer_modulo:\n",
            "\n",
            "NAME\n",
            "    mi_primer_modulo - Programa con funciones báscias aritméticas\n",
            "\n",
            "FUNCTIONS\n",
            "    resta_dos_numeros(x, y)\n",
            "    \n",
            "    suma_dos_numeros(x, y)\n",
            "\n",
            "DATA\n",
            "    VALOR_PI = 3\n",
            "\n",
            "VERSION\n",
            "    1.0\n",
            "\n",
            "AUTHOR\n",
            "    Maria\n",
            "\n",
            "FILE\n",
            "    /content/mi_primer_modulo.py\n",
            "\n",
            "\n"
          ]
        }
      ]
    },
    {
      "cell_type": "code",
      "metadata": {
        "id": "AsJ_hN7uzclx",
        "colab": {
          "base_uri": "https://localhost:8080/"
        },
        "outputId": "12068208-9a9d-4e33-c95a-b4333424baac"
      },
      "source": [
        "help(pm.resta_dos_numeros)"
      ],
      "execution_count": 11,
      "outputs": [
        {
          "output_type": "stream",
          "name": "stdout",
          "text": [
            "Help on function resta_dos_numeros in module mi_primer_modulo:\n",
            "\n",
            "resta_dos_numeros(x, y)\n",
            "\n"
          ]
        }
      ]
    },
    {
      "cell_type": "code",
      "source": [],
      "metadata": {
        "id": "2AOdhJW7I1Rn"
      },
      "execution_count": 12,
      "outputs": []
    },
    {
      "cell_type": "code",
      "metadata": {
        "id": "JI69xTxwy_qm",
        "colab": {
          "base_uri": "https://localhost:8080/",
          "height": 36
        },
        "outputId": "07cb2817-2be3-4ec5-8245-87d41e9911cf"
      },
      "source": [
        "pm.__version__"
      ],
      "execution_count": 13,
      "outputs": [
        {
          "output_type": "execute_result",
          "data": {
            "text/plain": [
              "'1.0'"
            ],
            "application/vnd.google.colaboratory.intrinsic+json": {
              "type": "string"
            }
          },
          "metadata": {},
          "execution_count": 13
        }
      ]
    },
    {
      "cell_type": "code",
      "metadata": {
        "id": "uwRSvA4qzI3x"
      },
      "source": [
        "import importlib #vuelve a cargar el módulo o lo sobreescribe el módulo que teníamos en memoria caché"
      ],
      "execution_count": 16,
      "outputs": []
    },
    {
      "cell_type": "code",
      "metadata": {
        "id": "Ab39bqedzRMA",
        "colab": {
          "base_uri": "https://localhost:8080/"
        },
        "outputId": "5159d1e2-fb4b-49c8-e501-7f1b997bf2dd"
      },
      "source": [
        "importlib.reload(pm)"
      ],
      "execution_count": 17,
      "outputs": [
        {
          "output_type": "execute_result",
          "data": {
            "text/plain": [
              "<module 'mi_primer_modulo' from '/content/mi_primer_modulo.py'>"
            ]
          },
          "metadata": {},
          "execution_count": 17
        }
      ]
    },
    {
      "cell_type": "code",
      "metadata": {
        "id": "a0sN-AmQ6SQY",
        "collapsed": true,
        "colab": {
          "base_uri": "https://localhost:8080/"
        },
        "outputId": "723aeab8-4711-4af1-8c40-d37d0f074475"
      },
      "source": [
        "pm.resta_dos_numeros(5,2)"
      ],
      "execution_count": 18,
      "outputs": [
        {
          "output_type": "execute_result",
          "data": {
            "text/plain": [
              "3"
            ]
          },
          "metadata": {},
          "execution_count": 18
        }
      ]
    },
    {
      "cell_type": "markdown",
      "metadata": {
        "id": "EaPanxiRbma5"
      },
      "source": [
        "# Fuentes <br>\n",
        "https://entrenamiento-python-basico.readthedocs.io/es/latest/leccion8/modulos.html#:~:text=Un%20m%C3%B3dulo%20es%20un%20objeto,tambi%C3%A9n%20puede%20incluir%20c%C3%B3digo%20ejecutable.\n"
      ]
    }
  ]
}