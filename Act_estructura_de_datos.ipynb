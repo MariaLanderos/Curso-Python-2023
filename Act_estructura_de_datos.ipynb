{
  "nbformat": 4,
  "nbformat_minor": 0,
  "metadata": {
    "colab": {
      "provenance": [],
      "authorship_tag": "ABX9TyPaBTYMLbYkp4Uloa55kaCG",
      "include_colab_link": true
    },
    "kernelspec": {
      "name": "python3",
      "display_name": "Python 3"
    },
    "language_info": {
      "name": "python"
    }
  },
  "cells": [
    {
      "cell_type": "markdown",
      "metadata": {
        "id": "view-in-github",
        "colab_type": "text"
      },
      "source": [
        "<a href=\"https://colab.research.google.com/github/MariaLanderos/Curso-Python-2023/blob/main/Act_estructura_de_datos.ipynb\" target=\"_parent\"><img src=\"https://colab.research.google.com/assets/colab-badge.svg\" alt=\"Open In Colab\"/></a>"
      ]
    },
    {
      "cell_type": "code",
      "execution_count": 2,
      "metadata": {
        "colab": {
          "base_uri": "https://localhost:8080/"
        },
        "id": "7TNx0mh9yJRm",
        "outputId": "56a9dcc2-4f10-43a7-d049-122981a47739"
      },
      "outputs": [
        {
          "output_type": "stream",
          "name": "stdout",
          "text": [
            "Ingresa el nombre del archivo: entrada.txt\n",
            "\n",
            "Las 5 palabras más frecuentes son:\n",
            "la: 3 ocurrencias\n",
            "línea: 3 ocurrencias\n",
            "esta: 2 ocurrencias\n",
            "es: 2 ocurrencias\n",
            "﻿hola: 1 ocurrencias\n"
          ]
        }
      ],
      "source": [
        "def contar_frecuencia_palabras(texto):\n",
        "    # Convertimos todo el texto a minúsculas para evitar diferencias de mayúsculas y minúsculas\n",
        "    texto = texto.lower()\n",
        "\n",
        "    # Eliminamos signos de puntuación y caracteres especiales\n",
        "    for char in '.,?!:;\"\\'()[]{}':\n",
        "        texto = texto.replace(char, '')\n",
        "\n",
        "    # Dividimos el texto en palabras\n",
        "    palabras = texto.split()\n",
        "\n",
        "    # Creamos un diccionario para almacenar las frecuencias de cada palabra\n",
        "    frecuencia_palabras = {}\n",
        "\n",
        "    # Contamos la frecuencia de cada palabra\n",
        "    for palabra in palabras:\n",
        "        if palabra in frecuencia_palabras:\n",
        "            frecuencia_palabras[palabra] += 1\n",
        "        else:\n",
        "            frecuencia_palabras[palabra] = 1\n",
        "\n",
        "    # Ordenamos las palabras por frecuencia en orden descendente\n",
        "    palabras_ordenadas = sorted(frecuencia_palabras.items(), key=lambda x: x[1], reverse=True)\n",
        "\n",
        "    return palabras_ordenadas[:5]\n",
        "\n",
        "if __name__ == \"__main__\":\n",
        "    nombre_archivo = input(\"Ingresa el nombre del archivo: \")\n",
        "\n",
        "    try:\n",
        "        with open(nombre_archivo, 'r', encoding='utf-8') as archivo:\n",
        "            texto = archivo.read()\n",
        "            palabras_frecuentes = contar_frecuencia_palabras(texto)\n",
        "\n",
        "            print(\"\\nLas 5 palabras más frecuentes son:\")\n",
        "            for palabra, frecuencia in palabras_frecuentes:\n",
        "                print(f\"{palabra}: {frecuencia} ocurrencias\")\n",
        "\n",
        "    except FileNotFoundError:\n",
        "        print(f\"El archivo '{nombre_archivo}' no fue encontrado.\")\n",
        "    except IOError:\n",
        "        print(f\"Error al leer el archivo '{nombre_archivo}'.\")\n",
        "\n"
      ]
    },
    {
      "cell_type": "code",
      "source": [],
      "metadata": {
        "id": "ZyyYnwZ-yXUK"
      },
      "execution_count": null,
      "outputs": []
    }
  ]
}