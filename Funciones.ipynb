{
  "nbformat": 4,
  "nbformat_minor": 0,
  "metadata": {
    "colab": {
      "provenance": [],
      "authorship_tag": "ABX9TyNqUjl6sh8B+qnsr1BqmD17",
      "include_colab_link": true
    },
    "kernelspec": {
      "name": "python3",
      "display_name": "Python 3"
    },
    "language_info": {
      "name": "python"
    }
  },
  "cells": [
    {
      "cell_type": "markdown",
      "metadata": {
        "id": "view-in-github",
        "colab_type": "text"
      },
      "source": [
        "<a href=\"https://colab.research.google.com/github/MariaLanderos/Curso-Python-2023/blob/main/Funciones.ipynb\" target=\"_parent\"><img src=\"https://colab.research.google.com/assets/colab-badge.svg\" alt=\"Open In Colab\"/></a>"
      ]
    },
    {
      "cell_type": "markdown",
      "source": [
        "#### para usar funciones, la palabra clave es def\n",
        "### return extrae o nos regresa el valor de la función"
      ],
      "metadata": {
        "id": "pTpN5PmG58q2"
      }
    },
    {
      "cell_type": "code",
      "source": [
        "def mi_primer_funcion():\n",
        "  print('Hola, estoy dentro de la función')"
      ],
      "metadata": {
        "id": "ov4WlvrN6BZU"
      },
      "execution_count": null,
      "outputs": []
    },
    {
      "cell_type": "code",
      "source": [],
      "metadata": {
        "id": "sjvoS1tz67ge"
      },
      "execution_count": null,
      "outputs": []
    },
    {
      "cell_type": "markdown",
      "source": [
        "#Creando una función con argumentos\n",
        "### crear una función para obtener el área de un cuadrado"
      ],
      "metadata": {
        "id": "3m-UTcCmAgof"
      }
    },
    {
      "cell_type": "code",
      "source": [
        "def area_cuadrado(lado):    #nivel básico\n",
        "  \"\"\" Calcula el área de un cuadrado \"\"\"\n",
        "  area = lado * lado\n",
        "  return area"
      ],
      "metadata": {
        "id": "z1mUU137AqTW"
      },
      "execution_count": null,
      "outputs": []
    },
    {
      "cell_type": "code",
      "source": [
        "#Nivel intermedio-avanzado\n",
        "from typing import Union\n",
        "\n",
        "def area_cuadrado(lado: Union[int,float]) -> Union[int,float]:\n",
        "  \"\"\"Calcula el área de un cuadrado\"\"\"\n",
        "  area= lado * lado\n",
        "  return area"
      ],
      "metadata": {
        "id": "-zgB66QfCSoi"
      },
      "execution_count": null,
      "outputs": []
    },
    {
      "cell_type": "code",
      "source": [
        "area_cuadrado(4)"
      ],
      "metadata": {
        "colab": {
          "base_uri": "https://localhost:8080/"
        },
        "id": "He0xeKQ9B6le",
        "outputId": "0268b067-caf0-4c0e-a07f-200fed372c2a"
      },
      "execution_count": null,
      "outputs": [
        {
          "output_type": "execute_result",
          "data": {
            "text/plain": [
              "16"
            ]
          },
          "metadata": {},
          "execution_count": 5
        }
      ]
    },
    {
      "cell_type": "code",
      "source": [
        "# area_cuadrado(2)\n",
        "help(area_cuadrado) #escribe lo de las comillas comentadas en la función\n"
      ],
      "metadata": {
        "colab": {
          "base_uri": "https://localhost:8080/"
        },
        "id": "ipv7UOWTA-kJ",
        "outputId": "005a0fba-f7cb-453a-f0b8-c7764b043fe7"
      },
      "execution_count": null,
      "outputs": [
        {
          "output_type": "stream",
          "name": "stdout",
          "text": [
            "Help on function area_cuadrado in module __main__:\n",
            "\n",
            "area_cuadrado(lado)\n",
            "\n"
          ]
        }
      ]
    },
    {
      "cell_type": "markdown",
      "source": [
        "##Act funciones para el área y perímetro del cuadrado y del círculo"
      ],
      "metadata": {
        "id": "6Zs-vpm6EFOe"
      }
    },
    {
      "cell_type": "code",
      "source": [
        "def area_cuadrado(lado):\n",
        "  \"\"\"Calcula el área de un cuadrado\"\"\"\n",
        "  area = lado * lado\n",
        "  return area"
      ],
      "metadata": {
        "id": "BObUqai1EKqO"
      },
      "execution_count": null,
      "outputs": []
    },
    {
      "cell_type": "code",
      "source": [
        "area_cuadrado(4)"
      ],
      "metadata": {
        "colab": {
          "base_uri": "https://localhost:8080/"
        },
        "id": "QGQoSnxGEm0m",
        "outputId": "72b9497d-55a0-4e0c-9f36-dfff1bce4baa"
      },
      "execution_count": null,
      "outputs": [
        {
          "output_type": "execute_result",
          "data": {
            "text/plain": [
              "16"
            ]
          },
          "metadata": {},
          "execution_count": 14
        }
      ]
    },
    {
      "cell_type": "code",
      "source": [
        "def area_circulo(radio):\n",
        "  \"\"\"Calcula el area de un círculo\"\"\"\n",
        "  pi = 3.14159\n",
        "  area = pi * radio * radio\n",
        "  return area\n",
        "\n",
        "area_circulo(5)\n"
      ],
      "metadata": {
        "colab": {
          "base_uri": "https://localhost:8080/"
        },
        "id": "daVQ3uJ9E3Wr",
        "outputId": "aecb4fc0-1590-422b-eebe-24c234012500"
      },
      "execution_count": null,
      "outputs": [
        {
          "output_type": "execute_result",
          "data": {
            "text/plain": [
              "78.53975"
            ]
          },
          "metadata": {},
          "execution_count": 15
        }
      ]
    },
    {
      "cell_type": "code",
      "source": [
        "def perimetro_cuadrado(lado):\n",
        "  \"\"\"Calcula el perímetro del cuadrado\"\"\"\n",
        "  perimetro = lado + lado + lado + lado\n",
        "  return perimetro\n",
        "\n",
        "perimetro_cuadrado(5)"
      ],
      "metadata": {
        "colab": {
          "base_uri": "https://localhost:8080/"
        },
        "id": "7IM5GaGjGTFk",
        "outputId": "b306878b-318b-41e1-efb7-8e2cc5ae4d52"
      },
      "execution_count": null,
      "outputs": [
        {
          "output_type": "execute_result",
          "data": {
            "text/plain": [
              "20"
            ]
          },
          "metadata": {},
          "execution_count": 16
        }
      ]
    },
    {
      "cell_type": "code",
      "source": [
        "def perimetro_circulo(radio):\n",
        "  \"\"\"Calcula el perímetro del circulo\"\"\"\n",
        "  pi = 3.14159\n",
        "  perimetro= 2 * pi * radio\n",
        "  return perimetro\n",
        "\n",
        "perimetro_circulo(2)"
      ],
      "metadata": {
        "colab": {
          "base_uri": "https://localhost:8080/"
        },
        "id": "Or8gcQ3TG8w_",
        "outputId": "33e3e443-62e7-46c2-94fe-ded6a94dce41"
      },
      "execution_count": null,
      "outputs": [
        {
          "output_type": "execute_result",
          "data": {
            "text/plain": [
              "12.56636"
            ]
          },
          "metadata": {},
          "execution_count": 17
        }
      ]
    },
    {
      "cell_type": "markdown",
      "source": [
        "#####Alcance de las variables (variable scope)"
      ],
      "metadata": {
        "id": "j9b--Z8xKIsm"
      }
    },
    {
      "cell_type": "code",
      "source": [
        "# DEMO: Variables globales y locales\n",
        "var_global = \"Cuau\"\n",
        "def mi_funcion(arg_1, arg_2):\n",
        "    print(\"Print(dentro func) -> Var global = \", var_global)\n",
        "    var_local = \"Jess\"\n",
        "    # arg_1 y arg_2 son variables locales\n",
        "    print(\"Print(dentro func) -> arg_1 =\", arg_1,  \", arg_2 =\", arg_2)\n",
        "    print(\"Print(dentro func) -> Var local = \", var_local)\n",
        "\n",
        "mi_funcion(1, 'Manzana')\n",
        "\n",
        "# Accediendo a la variable global\n",
        "print(\"Print(fuera func) -> Var global = \", var_global)\n",
        "\n",
        "# Intentado acceder a la variable local dentro de mi_funcion\n",
        "print(\"Print(fuera func) -> Var local = \", var_local)"
      ],
      "metadata": {
        "id": "bhiQYGscKOsg",
        "colab": {
          "base_uri": "https://localhost:8080/",
          "height": 269
        },
        "outputId": "a51ff42c-14b2-427c-ceb1-a51c0e63dd21"
      },
      "execution_count": 1,
      "outputs": [
        {
          "output_type": "stream",
          "name": "stdout",
          "text": [
            "Print(dentro func) -> Var global =  Cuau\n",
            "Print(dentro func) -> arg_1 = 1 , arg_2 = Manzana\n",
            "Print(dentro func) -> Var local =  Jess\n",
            "Print(fuera func) -> Var global =  Cuau\n"
          ]
        },
        {
          "output_type": "error",
          "ename": "NameError",
          "evalue": "ignored",
          "traceback": [
            "\u001b[0;31m---------------------------------------------------------------------------\u001b[0m",
            "\u001b[0;31mNameError\u001b[0m                                 Traceback (most recent call last)",
            "\u001b[0;32m<ipython-input-1-ede4f5d2f4de>\u001b[0m in \u001b[0;36m<cell line: 16>\u001b[0;34m()\u001b[0m\n\u001b[1;32m     14\u001b[0m \u001b[0;34m\u001b[0m\u001b[0m\n\u001b[1;32m     15\u001b[0m \u001b[0;31m# Intentado acceder a la variable local dentro de mi_funcion\u001b[0m\u001b[0;34m\u001b[0m\u001b[0;34m\u001b[0m\u001b[0m\n\u001b[0;32m---> 16\u001b[0;31m \u001b[0mprint\u001b[0m\u001b[0;34m(\u001b[0m\u001b[0;34m\"Print(fuera func) -> Var local = \"\u001b[0m\u001b[0;34m,\u001b[0m \u001b[0mvar_local\u001b[0m\u001b[0;34m)\u001b[0m\u001b[0;34m\u001b[0m\u001b[0;34m\u001b[0m\u001b[0m\n\u001b[0m",
            "\u001b[0;31mNameError\u001b[0m: name 'var_local' is not defined"
          ]
        }
      ]
    },
    {
      "cell_type": "code",
      "source": [],
      "metadata": {
        "id": "IFNRBWhgji4z"
      },
      "execution_count": null,
      "outputs": []
    }
  ]
}