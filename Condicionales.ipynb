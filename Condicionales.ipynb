{
  "nbformat": 4,
  "nbformat_minor": 0,
  "metadata": {
    "colab": {
      "provenance": [],
      "authorship_tag": "ABX9TyPYtsgDsMlLxqQDRjOOd37B",
      "include_colab_link": true
    },
    "kernelspec": {
      "name": "python3",
      "display_name": "Python 3"
    },
    "language_info": {
      "name": "python"
    }
  },
  "cells": [
    {
      "cell_type": "markdown",
      "metadata": {
        "id": "view-in-github",
        "colab_type": "text"
      },
      "source": [
        "<a href=\"https://colab.research.google.com/github/MariaLanderos/Curso-Python-2023/blob/main/Condicionales.ipynb\" target=\"_parent\"><img src=\"https://colab.research.google.com/assets/colab-badge.svg\" alt=\"Open In Colab\"/></a>"
      ]
    },
    {
      "cell_type": "markdown",
      "source": [
        "#Condicionales"
      ],
      "metadata": {
        "id": "TzD0rmyjlfPg"
      }
    },
    {
      "cell_type": "markdown",
      "source": [
        "Las sentencias condicionales o simplemente **condicionales**, nos permite controlar o condicionar el flujo de nuestro código. <br>\n",
        "\n",
        "Dicho de otro modo, nos permite tomar decisiones. <br>\n",
        "\n",
        "\n",
        "**Palabras clave:**\n",
        "if, elif, else\n",
        "\n",
        "## Bloque de código\n",
        "\n",
        "Es un grupo de sentencias (líneas de código) que se ejecuta como una unidad. <br>\n",
        "Están relacionadas y se encuentran bien delimitadas. <br>\n",
        "En Python se usa la **identación** (4 espacios o 1 tabulación (tab)) al inicio de la línea de código."
      ],
      "metadata": {
        "id": "WdYzWanxlq6A"
      }
    },
    {
      "cell_type": "markdown",
      "source": [
        "**Depuración de código** <br>\n",
        "**IndentationError:** expected an indented block\n",
        "Este error sucede cuando no tenemos los 4 espacios o 1 tabulación (tab)"
      ],
      "metadata": {
        "id": "iokF9Bb40THb"
      }
    },
    {
      "cell_type": "markdown",
      "source": [
        "# Condicional if\n",
        "\n",
        "Si se cumple la condición, se ejecuta el bloque de código.\n",
        "\n",
        "```\n",
        "if condicion:\n",
        "----bloque de código que se ejecuta.\n",
        "\n",
        "if condicion:\n",
        "    bloque de código que se ejecuta.\n",
        "\n",
        "if True:\n",
        "    bloque de código que se ejecuta.\n",
        "    \n",
        "\n",
        "# Nota: los guiones son una ayuda visual para identificar la identación.\n",
        "```"
      ],
      "metadata": {
        "id": "t4hl1Bhq0wRA"
      }
    },
    {
      "cell_type": "markdown",
      "source": [
        "La condición siempre se evalúa.\n",
        "- Si es True se ejecuta el bloque\n",
        "- Si es False NO se ejecuta el bloque"
      ],
      "metadata": {
        "id": "dg63y86f05o0"
      }
    },
    {
      "cell_type": "markdown",
      "source": [
        "Es lunes por la mañana, suena el timbre, despierto con flojera y pienso: <br>\n",
        "- ¿Me quedo más tiempo en la cama o me levanto?"
      ],
      "metadata": {
        "id": "fw6f0yOb1Ldz"
      }
    },
    {
      "cell_type": "markdown",
      "source": [
        "```\n",
        "accion = 'dormir' ó accion = 'levantarse'\n",
        "\n",
        "if accion == 'dormir':\n",
        "    # Inicia bloque\n",
        "    print('Llegaré tarde a trabajar')\n",
        "    print('Me la juego')\n",
        "    # Termina bloque\n",
        "\n",
        "print('Hoy si me duermo más temprano')\n",
        "\n",
        "```"
      ],
      "metadata": {
        "id": "_nwXJz2l1QOA"
      }
    },
    {
      "cell_type": "code",
      "source": [
        "accion = True\n",
        "if accion:\n",
        "  print('Se ejecuta este código')"
      ],
      "metadata": {
        "id": "Vrh3sDjK1dDv"
      },
      "execution_count": null,
      "outputs": []
    },
    {
      "cell_type": "markdown",
      "source": [
        "#Condicional if, else"
      ],
      "metadata": {
        "id": "yEMEwXON1lgJ"
      }
    },
    {
      "cell_type": "markdown",
      "source": [
        "####Si se cumple la condición, se ejecuta el primer bloque de código.\n",
        "Si NO se cumple la condición, se ejecuta el segundo bloque de código"
      ],
      "metadata": {
        "id": "fcUwSvIu1rJR"
      }
    },
    {
      "cell_type": "code",
      "source": [],
      "metadata": {
        "id": "KgrYrKBk1uiK"
      },
      "execution_count": null,
      "outputs": []
    },
    {
      "cell_type": "markdown",
      "source": [
        "```\n",
        "if condicion:\n",
        "----PRIMER bloque de código.\n",
        "else:\n",
        "----SEGUNDO bloque de código.\n",
        "```\n",
        "\n",
        "**Nota:** El condicional **else** es opcional, pero es una buena práctica siempre escribirlo para finalizar nuestro condicional."
      ],
      "metadata": {
        "id": "BemFkvsQ2YFK"
      }
    },
    {
      "cell_type": "code",
      "source": [
        "#las tareas van en un notebook aparte"
      ],
      "metadata": {
        "id": "MBQhRSkS2Yx0"
      },
      "execution_count": 2,
      "outputs": []
    },
    {
      "cell_type": "code",
      "source": [],
      "metadata": {
        "id": "YkhvnYY18L7u"
      },
      "execution_count": null,
      "outputs": []
    },
    {
      "cell_type": "code",
      "source": [],
      "metadata": {
        "id": "fpqCtN398MVa"
      },
      "execution_count": null,
      "outputs": []
    },
    {
      "cell_type": "code",
      "source": [],
      "metadata": {
        "id": "z2XwxbH68MZu"
      },
      "execution_count": null,
      "outputs": []
    },
    {
      "cell_type": "markdown",
      "source": [
        "#Ejemplos"
      ],
      "metadata": {
        "id": "CEXzdygl8NC4"
      }
    },
    {
      "cell_type": "code",
      "source": [
        "#Ejercicio 1\n",
        "if True:\n",
        "  print(\"Hola mundo\")  #bloque de código"
      ],
      "metadata": {
        "colab": {
          "base_uri": "https://localhost:8080/"
        },
        "id": "8sadDsrd8Ybe",
        "outputId": "a52b3682-4d5d-4a9e-f0f6-9f9a525fcea5"
      },
      "execution_count": 4,
      "outputs": [
        {
          "output_type": "stream",
          "name": "stdout",
          "text": [
            "Hola mundo\n"
          ]
        }
      ]
    },
    {
      "cell_type": "code",
      "source": [
        "if False:  #como es False no se ejecutará el bloque de código\n",
        "  print(\"Hola mundo\") #Bloque de código"
      ],
      "metadata": {
        "id": "bC05wxwW836z"
      },
      "execution_count": 5,
      "outputs": []
    },
    {
      "cell_type": "code",
      "source": [
        "#Ejercicio 2\n",
        "a = \"fruta\"\n",
        "\n",
        "if a == \"fruta\":   #Al evaluar la condición se obtiene un True\n",
        "  print(\"Mi variable es igual a fruta\")\n",
        "\n",
        "print(\"Esta línea se ejecuta aunque la condición sea False\")"
      ],
      "metadata": {
        "colab": {
          "base_uri": "https://localhost:8080/"
        },
        "id": "djFdh7299QUF",
        "outputId": "24f8b31d-5ce0-42a6-8066-8ec7c2b95a47"
      },
      "execution_count": 6,
      "outputs": [
        {
          "output_type": "stream",
          "name": "stdout",
          "text": [
            "Mi variable es igual a fruta\n",
            "Esta línea se ejecuta aunque la condición sea False\n"
          ]
        }
      ]
    },
    {
      "cell_type": "code",
      "source": [
        "# Ejercicio 3\n",
        "\n",
        "valor_1 = 100.5\n",
        "valor_2 =100.7999\n",
        "\n",
        "if valor_1 > valor_2:\n",
        "  print(\"El valor_1 es mayor que el valor_2\")\n",
        "else:\n",
        "  print(\"El valor_2 es mayor que el valor_1\")"
      ],
      "metadata": {
        "colab": {
          "base_uri": "https://localhost:8080/"
        },
        "id": "V0kgoD2R91Ao",
        "outputId": "6552e289-f894-41e8-f0da-9597a62d2405"
      },
      "execution_count": 8,
      "outputs": [
        {
          "output_type": "stream",
          "name": "stdout",
          "text": [
            "El valor_2 es mayor que el valor_1\n"
          ]
        }
      ]
    },
    {
      "cell_type": "code",
      "source": [
        "# Ejercicio 4\n",
        "\n",
        "numero = int(input(\"Ingresa un número entre 1 y 5: \"))\n",
        "\n",
        "if numero == 1:\n",
        "  print(\"Ingresaste el num 1\")\n",
        "elif numero == 2:  #elif se usará para muchos bloques de código o sea varios\n",
        "  print(\"Ingresaste el num 2\")\n",
        "elif numero == 3:\n",
        "  print(\"Ingresaste el num 3\")\n",
        "elif numero == 4:\n",
        "  print(\"Ingresaste el num 4\")\n",
        "else:\n",
        "  print(\"Ingresaste el num 5\")\n",
        "\n",
        "#else:\n",
        "  #pass   #si no sabemos lo que queremos hacer en esta parte del código"
      ],
      "metadata": {
        "colab": {
          "base_uri": "https://localhost:8080/"
        },
        "id": "GeFB7w8q-pYv",
        "outputId": "a21adf4b-ef07-4685-f30e-3b3678ba4ad0"
      },
      "execution_count": 12,
      "outputs": [
        {
          "output_type": "stream",
          "name": "stdout",
          "text": [
            "Ingresa un número entre 1 y 5: 3\n",
            "Ingresaste el num 3\n"
          ]
        }
      ]
    },
    {
      "cell_type": "code",
      "source": [
        "# Numeros pares e impares  #cuando pasamos numero par regresa un valor 0 e impar regresa valor 1\n",
        "10 % 2 == 0 #que es un numero par\n"
      ],
      "metadata": {
        "colab": {
          "base_uri": "https://localhost:8080/"
        },
        "id": "hDQorQ7n_O66",
        "outputId": "4b493867-6504-425e-d47c-c70f4a05c67b"
      },
      "execution_count": 14,
      "outputs": [
        {
          "output_type": "execute_result",
          "data": {
            "text/plain": [
              "True"
            ]
          },
          "metadata": {},
          "execution_count": 14
        }
      ]
    },
    {
      "cell_type": "code",
      "source": [
        "numero = 9\n",
        "\n",
        "\n",
        "if (numero % 2)== 0:\n",
        "  #bloque de código\n",
        "  print(\"El número es par\")\n",
        "else:\n",
        "  print(\"El numero es impar\")"
      ],
      "metadata": {
        "colab": {
          "base_uri": "https://localhost:8080/"
        },
        "id": "FYFRttwPBMe2",
        "outputId": "21a77b1d-637e-487f-8581-90f95142d4e7"
      },
      "execution_count": 17,
      "outputs": [
        {
          "output_type": "stream",
          "name": "stdout",
          "text": [
            "El numero es impar\n"
          ]
        }
      ]
    },
    {
      "cell_type": "markdown",
      "source": [
        "#Lab \"No voy a trabajá\"\n"
      ],
      "metadata": {
        "id": "vPmEHrJZCrJM"
      }
    },
    {
      "cell_type": "code",
      "source": [
        "# Convertir la canción No voy a trabajar a una sentencia tipo if, elif, else para los días de la semana\n",
        "dia = int(input(\"Ingresa el día de la semana: \"))\n",
        "\n",
        "if dia == 1: # o en ves de 1 podemos poner \"Lunes\"\n",
        "  print(\"LUNES, Principio de semana, No vo' a trabajá, no vo' a trabajá\")\n",
        "elif dia == 2:\n",
        "  print(\"MARTES, Ni te cases ni te embarques,\") #terminar ejercicio\n",
        "elif dia == 3:\n",
        "  print(\"MIERCOLES,se casa la patrona, \")\n",
        "elif dia == 4:\n",
        "  print(\"JUEVES, estoy muy desvelado, \")\n",
        "elif dia == 5:\n",
        "  print(\"VIERNES,\")\n",
        "elif dia == 6:\n",
        "  print(\"SABADO, \")\n",
        "elif dia == 7:\n",
        "  print(\"DOMINGOO\")\n",
        "else:\n",
        "  print(\"Error\")\n"
      ],
      "metadata": {
        "colab": {
          "base_uri": "https://localhost:8080/"
        },
        "id": "CDTG8jSjCwJF",
        "outputId": "b40da38e-0c07-4e2f-f53d-2556d5edaee8"
      },
      "execution_count": 18,
      "outputs": [
        {
          "output_type": "stream",
          "name": "stdout",
          "text": [
            "Ingresa el día de la semana: 1\n",
            "LUNES, Principio de semana, No vo' a trabajá, no vo' a trabajá\n"
          ]
        }
      ]
    },
    {
      "cell_type": "markdown",
      "source": [
        "#Ejercicio : Impuestos\n",
        "#### Escribir un programa que pregunte al usuario su renta anual y muestre por pantalla el tipo total de impuestos a pagar en funcón de la tasa  impositiva"
      ],
      "metadata": {
        "id": "5o9YTfxKFZ6h"
      }
    },
    {
      "cell_type": "code",
      "source": [
        "# Act5_Ejercicio_impuestos"
      ],
      "metadata": {
        "id": "VzPWI3OuFdhc"
      },
      "execution_count": 19,
      "outputs": []
    },
    {
      "cell_type": "code",
      "source": [],
      "metadata": {
        "id": "2y621gqFRetU"
      },
      "execution_count": null,
      "outputs": []
    }
  ]
}