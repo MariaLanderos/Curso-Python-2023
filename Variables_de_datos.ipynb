{
  "nbformat": 4,
  "nbformat_minor": 0,
  "metadata": {
    "colab": {
      "provenance": [],
      "authorship_tag": "ABX9TyOB3fX+bb3kXGb3syusVHlK",
      "include_colab_link": true
    },
    "kernelspec": {
      "name": "python3",
      "display_name": "Python 3"
    },
    "language_info": {
      "name": "python"
    }
  },
  "cells": [
    {
      "cell_type": "markdown",
      "metadata": {
        "id": "view-in-github",
        "colab_type": "text"
      },
      "source": [
        "<a href=\"https://colab.research.google.com/github/MariaLanderos/Curso-Python-2023/blob/main/Variables_de_datos.ipynb\" target=\"_parent\"><img src=\"https://colab.research.google.com/assets/colab-badge.svg\" alt=\"Open In Colab\"/></a>"
      ]
    },
    {
      "cell_type": "markdown",
      "source": [
        "# 11/07/2023 día 2\n",
        "Autor: Maria Elena Landeros"
      ],
      "metadata": {
        "id": "ZAOAQ3zx1lX7"
      }
    },
    {
      "cell_type": "markdown",
      "source": [
        "#2.1 Tipos de datos"
      ],
      "metadata": {
        "id": "y2M6LLjL138T"
      }
    },
    {
      "cell_type": "code",
      "source": [
        "type(100)"
      ],
      "metadata": {
        "colab": {
          "base_uri": "https://localhost:8080/"
        },
        "id": "IdOgdqiu18Uy",
        "outputId": "9b59825a-73bb-4c94-870e-83a593a57fe8"
      },
      "execution_count": 1,
      "outputs": [
        {
          "output_type": "execute_result",
          "data": {
            "text/plain": [
              "int"
            ]
          },
          "metadata": {},
          "execution_count": 1
        }
      ]
    },
    {
      "cell_type": "code",
      "source": [
        "type(-9)"
      ],
      "metadata": {
        "colab": {
          "base_uri": "https://localhost:8080/"
        },
        "id": "CltCY-E92Awe",
        "outputId": "31d003f1-0ed4-4a83-c62e-a58439259ad2"
      },
      "execution_count": 2,
      "outputs": [
        {
          "output_type": "execute_result",
          "data": {
            "text/plain": [
              "int"
            ]
          },
          "metadata": {},
          "execution_count": 2
        }
      ]
    },
    {
      "cell_type": "code",
      "source": [
        "type(100.658)"
      ],
      "metadata": {
        "colab": {
          "base_uri": "https://localhost:8080/"
        },
        "id": "cguH5B_X2EfT",
        "outputId": "282970e8-53eb-428a-a987-6e81922fb9bd"
      },
      "execution_count": 3,
      "outputs": [
        {
          "output_type": "execute_result",
          "data": {
            "text/plain": [
              "float"
            ]
          },
          "metadata": {},
          "execution_count": 3
        }
      ]
    },
    {
      "cell_type": "code",
      "source": [
        "type(\"A\")"
      ],
      "metadata": {
        "colab": {
          "base_uri": "https://localhost:8080/"
        },
        "id": "Bt0_kL2E2Isj",
        "outputId": "c875cbfa-43b1-4811-ab14-326d842db26f"
      },
      "execution_count": 4,
      "outputs": [
        {
          "output_type": "execute_result",
          "data": {
            "text/plain": [
              "str"
            ]
          },
          "metadata": {},
          "execution_count": 4
        }
      ]
    },
    {
      "cell_type": "code",
      "source": [
        "type('Alo')"
      ],
      "metadata": {
        "colab": {
          "base_uri": "https://localhost:8080/"
        },
        "id": "q3wXZfDj2MlI",
        "outputId": "ec13f064-d9d9-4b8c-8fc3-3eb2a08ce2e7"
      },
      "execution_count": 5,
      "outputs": [
        {
          "output_type": "execute_result",
          "data": {
            "text/plain": [
              "str"
            ]
          },
          "metadata": {},
          "execution_count": 5
        }
      ]
    },
    {
      "cell_type": "code",
      "source": [
        "print(\"hello\")"
      ],
      "metadata": {
        "colab": {
          "base_uri": "https://localhost:8080/"
        },
        "id": "lBjdb4ZN2SDA",
        "outputId": "47979582-14fd-4ef1-ad2b-6898b7fdcbd3"
      },
      "execution_count": 6,
      "outputs": [
        {
          "output_type": "stream",
          "name": "stdout",
          "text": [
            "hello\n"
          ]
        }
      ]
    },
    {
      "cell_type": "code",
      "source": [
        "print(type(\"hello\"))"
      ],
      "metadata": {
        "colab": {
          "base_uri": "https://localhost:8080/"
        },
        "id": "BjcqmVpT2T-a",
        "outputId": "4a7c6a0d-8742-4a2e-a660-2019dea6a178"
      },
      "execution_count": 7,
      "outputs": [
        {
          "output_type": "stream",
          "name": "stdout",
          "text": [
            "<class 'str'>\n"
          ]
        }
      ]
    },
    {
      "cell_type": "code",
      "source": [
        "type(\"17\")"
      ],
      "metadata": {
        "colab": {
          "base_uri": "https://localhost:8080/"
        },
        "id": "Rj8AQnHk2bGp",
        "outputId": "ca3cc239-85b5-48c0-ed9d-637a623fa14a"
      },
      "execution_count": 8,
      "outputs": [
        {
          "output_type": "execute_result",
          "data": {
            "text/plain": [
              "str"
            ]
          },
          "metadata": {},
          "execution_count": 8
        }
      ]
    },
    {
      "cell_type": "code",
      "source": [
        "type(\"\"\"Triple double quote data\"\"\")"
      ],
      "metadata": {
        "colab": {
          "base_uri": "https://localhost:8080/"
        },
        "id": "hbY2ZJMV2rWf",
        "outputId": "890b3203-1dae-4aa8-f3f3-a96b62a78c82"
      },
      "execution_count": 9,
      "outputs": [
        {
          "output_type": "execute_result",
          "data": {
            "text/plain": [
              "str"
            ]
          },
          "metadata": {},
          "execution_count": 9
        }
      ]
    },
    {
      "cell_type": "code",
      "source": [
        "print(\"\"'triple double quote data'\"\")"
      ],
      "metadata": {
        "colab": {
          "base_uri": "https://localhost:8080/"
        },
        "id": "5A_2_5JU23vs",
        "outputId": "e93e41f8-7a14-4dff-ac20-88c4777064f2"
      },
      "execution_count": 10,
      "outputs": [
        {
          "output_type": "stream",
          "name": "stdout",
          "text": [
            "triple double quote data\n"
          ]
        }
      ]
    },
    {
      "cell_type": "code",
      "source": [
        "a = \"hello\""
      ],
      "metadata": {
        "id": "jrsOCWRg2-Pj"
      },
      "execution_count": 11,
      "outputs": []
    },
    {
      "cell_type": "code",
      "source": [
        "a"
      ],
      "metadata": {
        "colab": {
          "base_uri": "https://localhost:8080/",
          "height": 36
        },
        "id": "3ka5aIQU3CLg",
        "outputId": "67061682-de1f-4f9e-ecd6-c78bef8590ef"
      },
      "execution_count": 12,
      "outputs": [
        {
          "output_type": "execute_result",
          "data": {
            "text/plain": [
              "'hello'"
            ],
            "application/vnd.google.colaboratory.intrinsic+json": {
              "type": "string"
            }
          },
          "metadata": {},
          "execution_count": 12
        }
      ]
    },
    {
      "cell_type": "markdown",
      "source": [
        "##Conversión de tipos"
      ],
      "metadata": {
        "id": "AdLca3IF3MO-"
      }
    },
    {
      "cell_type": "code",
      "source": [
        "data= \"hello\"   # no se puede convertir una cadena en flotante o en entero"
      ],
      "metadata": {
        "id": "wlbMmDQq3PRE"
      },
      "execution_count": 13,
      "outputs": []
    },
    {
      "cell_type": "code",
      "source": [
        "type(data)"
      ],
      "metadata": {
        "colab": {
          "base_uri": "https://localhost:8080/"
        },
        "id": "2qiDdNvu3aTI",
        "outputId": "f45701a3-811e-402c-85ea-bbd26ea2b873"
      },
      "execution_count": 14,
      "outputs": [
        {
          "output_type": "execute_result",
          "data": {
            "text/plain": [
              "str"
            ]
          },
          "metadata": {},
          "execution_count": 14
        }
      ]
    },
    {
      "cell_type": "code",
      "source": [
        "data = '100'\n",
        "type(data)"
      ],
      "metadata": {
        "colab": {
          "base_uri": "https://localhost:8080/"
        },
        "id": "9xPjT9pX3cEt",
        "outputId": "361cfcce-6836-453c-9411-da438c766d3a"
      },
      "execution_count": 15,
      "outputs": [
        {
          "output_type": "execute_result",
          "data": {
            "text/plain": [
              "str"
            ]
          },
          "metadata": {},
          "execution_count": 15
        }
      ]
    },
    {
      "cell_type": "code",
      "source": [
        "num =int(data)\n",
        "type(num)"
      ],
      "metadata": {
        "colab": {
          "base_uri": "https://localhost:8080/"
        },
        "id": "4E3HwGpI3kw_",
        "outputId": "cf0833c7-f88f-480c-96b3-c2410cedc450"
      },
      "execution_count": 16,
      "outputs": [
        {
          "output_type": "execute_result",
          "data": {
            "text/plain": [
              "int"
            ]
          },
          "metadata": {},
          "execution_count": 16
        }
      ]
    },
    {
      "cell_type": "code",
      "source": [
        "num"
      ],
      "metadata": {
        "colab": {
          "base_uri": "https://localhost:8080/"
        },
        "id": "foGpsoho3845",
        "outputId": "06375566-8a76-4267-b205-5377457a87a5"
      },
      "execution_count": 17,
      "outputs": [
        {
          "output_type": "execute_result",
          "data": {
            "text/plain": [
              "100"
            ]
          },
          "metadata": {},
          "execution_count": 17
        }
      ]
    },
    {
      "cell_type": "code",
      "source": [
        "price = float('500,60') #### pdte"
      ],
      "metadata": {
        "id": "V9IbE6Oj5AVa"
      },
      "execution_count": null,
      "outputs": []
    },
    {
      "cell_type": "code",
      "source": [
        "# int(\"hola\")   dará error"
      ],
      "metadata": {
        "id": "g_vD5lsf6IFt"
      },
      "execution_count": null,
      "outputs": []
    },
    {
      "cell_type": "code",
      "source": [
        "num = 99.99\n",
        "striNum = str(num)\n",
        "print(striNum)\n",
        "type(striNum)"
      ],
      "metadata": {
        "colab": {
          "base_uri": "https://localhost:8080/"
        },
        "id": "9whSfeMa6Qg6",
        "outputId": "6298fa20-3d28-43f4-b52d-f5612b4aa691"
      },
      "execution_count": 18,
      "outputs": [
        {
          "output_type": "stream",
          "name": "stdout",
          "text": [
            "99.99\n"
          ]
        },
        {
          "output_type": "execute_result",
          "data": {
            "text/plain": [
              "str"
            ]
          },
          "metadata": {},
          "execution_count": 18
        }
      ]
    },
    {
      "cell_type": "code",
      "source": [
        "type(True)"
      ],
      "metadata": {
        "colab": {
          "base_uri": "https://localhost:8080/"
        },
        "id": "BHEbK9SX6dk6",
        "outputId": "6e3976c5-cb71-4be1-811a-fe948472b6a7"
      },
      "execution_count": 19,
      "outputs": [
        {
          "output_type": "execute_result",
          "data": {
            "text/plain": [
              "bool"
            ]
          },
          "metadata": {},
          "execution_count": 19
        }
      ]
    },
    {
      "cell_type": "code",
      "source": [
        "type(False)"
      ],
      "metadata": {
        "colab": {
          "base_uri": "https://localhost:8080/"
        },
        "id": "zaMEZ78O6hwH",
        "outputId": "837f243a-6f17-4b9a-9539-763f81318dfa"
      },
      "execution_count": 20,
      "outputs": [
        {
          "output_type": "execute_result",
          "data": {
            "text/plain": [
              "bool"
            ]
          },
          "metadata": {},
          "execution_count": 20
        }
      ]
    },
    {
      "cell_type": "markdown",
      "source": [
        "## 2.3 Declaraciones"
      ],
      "metadata": {
        "id": "FSNdQ55w6tgv"
      }
    },
    {
      "cell_type": "markdown",
      "source": [
        "Instruccion"
      ],
      "metadata": {
        "id": "7scr1FnR62cs"
      }
    },
    {
      "cell_type": "code",
      "source": [
        "1+2"
      ],
      "metadata": {
        "colab": {
          "base_uri": "https://localhost:8080/"
        },
        "id": "3lyJDhDb66qp",
        "outputId": "1d698924-fc24-49af-862c-178e3ea79c01"
      },
      "execution_count": 21,
      "outputs": [
        {
          "output_type": "execute_result",
          "data": {
            "text/plain": [
              "3"
            ]
          },
          "metadata": {},
          "execution_count": 21
        }
      ]
    },
    {
      "cell_type": "code",
      "source": [
        "len('hello')  # sirve para ver cuántos caract tienen en un string"
      ],
      "metadata": {
        "colab": {
          "base_uri": "https://localhost:8080/"
        },
        "id": "nwW9lNzI69AH",
        "outputId": "762e8efc-9f8e-4e81-cb40-0c7b1a59c6fd"
      },
      "execution_count": 23,
      "outputs": [
        {
          "output_type": "execute_result",
          "data": {
            "text/plain": [
              "5"
            ]
          },
          "metadata": {},
          "execution_count": 23
        }
      ]
    },
    {
      "cell_type": "code",
      "source": [
        "print(2+5+6)"
      ],
      "metadata": {
        "colab": {
          "base_uri": "https://localhost:8080/"
        },
        "id": "hO0DB3cN7GUI",
        "outputId": "17b9794e-bf14-4d95-8527-071446602e59"
      },
      "execution_count": 24,
      "outputs": [
        {
          "output_type": "stream",
          "name": "stdout",
          "text": [
            "13\n"
          ]
        }
      ]
    },
    {
      "cell_type": "code",
      "source": [
        "print(''' \"Oh no\", ella exclama, \"La ventana de Ben está rota\"''')"
      ],
      "metadata": {
        "colab": {
          "base_uri": "https://localhost:8080/"
        },
        "id": "IUpBgnU97QwD",
        "outputId": "25d9728e-b679-4b6f-ba08-c03ca4a62d8e"
      },
      "execution_count": 25,
      "outputs": [
        {
          "output_type": "stream",
          "name": "stdout",
          "text": [
            " \"Oh no\", ella exclama, \"La ventana de Ben está rota\"\n"
          ]
        }
      ]
    },
    {
      "cell_type": "markdown",
      "source": [
        "## 2.4 Secuencias de escape\n",
        "comillas dobles, simples y triples representan datos de cadena\n",
        "\\n - nueva línea\n",
        "\\\\ -barra invertida\n",
        "\\t - tabulador\n",
        "\\r - retorno de carro\n",
        "\\' - una frase\n",
        "\\\" - comillas dobles\n"
      ],
      "metadata": {
        "id": "RnmpiHkE7kC-"
      }
    },
    {
      "cell_type": "code",
      "source": [
        "print('What\\'s up \\n Shaq O\\'Neal?')"
      ],
      "metadata": {
        "colab": {
          "base_uri": "https://localhost:8080/"
        },
        "id": "JtCzyljf8MtG",
        "outputId": "c454a357-0126-4f0f-99dc-18d76df4ff90"
      },
      "execution_count": 26,
      "outputs": [
        {
          "output_type": "stream",
          "name": "stdout",
          "text": [
            "What's up \n",
            " Shaq O'Neal?\n"
          ]
        }
      ]
    },
    {
      "cell_type": "code",
      "source": [
        "print('Hello \\t there... \\nHow are you?  \\\\\\\\')"
      ],
      "metadata": {
        "colab": {
          "base_uri": "https://localhost:8080/"
        },
        "id": "xZcjv2Zj8iku",
        "outputId": "1b264373-81d7-42ac-bbe1-6082748b1fb2"
      },
      "execution_count": 27,
      "outputs": [
        {
          "output_type": "stream",
          "name": "stdout",
          "text": [
            "Hello \t there... \n",
            "How are you?\n"
          ]
        }
      ]
    },
    {
      "cell_type": "code",
      "source": [
        "print(r'Hello here... how are you?\\\\ ')"
      ],
      "metadata": {
        "colab": {
          "base_uri": "https://localhost:8080/"
        },
        "id": "2r9_R3ZU9gRl",
        "outputId": "e41ed5fa-e5af-46c2-f051-f20047d1d527"
      },
      "execution_count": 28,
      "outputs": [
        {
          "output_type": "stream",
          "name": "stdout",
          "text": [
            "Hello here... how are you?\\\\ \n"
          ]
        }
      ]
    },
    {
      "cell_type": "markdown",
      "source": [
        "#2.5 Variables"
      ],
      "metadata": {
        "id": "80T_LzCUA5Oa"
      }
    },
    {
      "cell_type": "code",
      "source": [
        "help(\"keywords\")"
      ],
      "metadata": {
        "colab": {
          "base_uri": "https://localhost:8080/"
        },
        "id": "V6rmWASfBBQ0",
        "outputId": "9ee53297-eacf-47fe-88e4-864ebd6fc3da"
      },
      "execution_count": 29,
      "outputs": [
        {
          "output_type": "stream",
          "name": "stdout",
          "text": [
            "\n",
            "Here is a list of the Python keywords.  Enter any keyword to get more help.\n",
            "\n",
            "False               class               from                or\n",
            "None                continue            global              pass\n",
            "True                def                 if                  raise\n",
            "and                 del                 import              return\n",
            "as                  elif                in                  try\n",
            "assert              else                is                  while\n",
            "async               except              lambda              with\n",
            "await               finally             nonlocal            yield\n",
            "break               for                 not                 \n",
            "\n"
          ]
        }
      ]
    },
    {
      "cell_type": "code",
      "source": [
        "# las variables deben de estar definidas al inicio"
      ],
      "metadata": {
        "id": "qdWUn2QcBFfR"
      },
      "execution_count": 2,
      "outputs": []
    },
    {
      "cell_type": "code",
      "source": [
        "x= \"algun valor\"\n",
        "print(x)"
      ],
      "metadata": {
        "colab": {
          "base_uri": "https://localhost:8080/"
        },
        "id": "zALAwl4_BZ76",
        "outputId": "117e884a-e6be-421a-84e0-78d8013c7cda"
      },
      "execution_count": 31,
      "outputs": [
        {
          "output_type": "stream",
          "name": "stdout",
          "text": [
            "algun valor\n"
          ]
        }
      ]
    },
    {
      "cell_type": "code",
      "source": [
        "var1= -100\n",
        "num= -99.99\n",
        "name ='Jhon'\n",
        "lname = 'Smith'\n",
        "MI = 'A'\n",
        "grade ='10.5'\n",
        "Name ='Jackie'\n",
        "grade = 19.9\n",
        "gradosCelsius ='32'\n",
        "grados_celsius = 32"
      ],
      "metadata": {
        "id": "cskcke4OBgii"
      },
      "execution_count": 5,
      "outputs": []
    },
    {
      "cell_type": "code",
      "source": [
        "type(gradosCelsius)"
      ],
      "metadata": {
        "colab": {
          "base_uri": "https://localhost:8080/"
        },
        "id": "CBt6OugZ8w03",
        "outputId": "8750d902-4af9-484b-fad6-ce832b5fd888"
      },
      "execution_count": 6,
      "outputs": [
        {
          "output_type": "execute_result",
          "data": {
            "text/plain": [
              "str"
            ]
          },
          "metadata": {},
          "execution_count": 6
        }
      ]
    },
    {
      "cell_type": "code",
      "source": [
        "type(grados_celsius)"
      ],
      "metadata": {
        "colab": {
          "base_uri": "https://localhost:8080/"
        },
        "id": "OdUJ5c5T9Kt6",
        "outputId": "26b2c5c2-a46a-4b65-fa80-42f93e5ccd6d"
      },
      "execution_count": 7,
      "outputs": [
        {
          "output_type": "execute_result",
          "data": {
            "text/plain": [
              "int"
            ]
          },
          "metadata": {},
          "execution_count": 7
        }
      ]
    },
    {
      "cell_type": "code",
      "source": [
        "#Estructura dinámica\n",
        "var = 100"
      ],
      "metadata": {
        "id": "-sRAqPRz9OfH"
      },
      "execution_count": 8,
      "outputs": []
    },
    {
      "cell_type": "code",
      "source": [
        "var = \"hello\""
      ],
      "metadata": {
        "id": "th4NYwW99U9F"
      },
      "execution_count": 9,
      "outputs": []
    },
    {
      "cell_type": "code",
      "source": [
        "var = 99.89"
      ],
      "metadata": {
        "id": "zIbfpAzt9YuW"
      },
      "execution_count": 10,
      "outputs": []
    },
    {
      "cell_type": "code",
      "source": [
        "var"
      ],
      "metadata": {
        "colab": {
          "base_uri": "https://localhost:8080/"
        },
        "id": "C8b65XFf9bKj",
        "outputId": "df33bafe-7f1e-4167-d741-e72a391faa03"
      },
      "execution_count": 11,
      "outputs": [
        {
          "output_type": "execute_result",
          "data": {
            "text/plain": [
              "99.89"
            ]
          },
          "metadata": {},
          "execution_count": 11
        }
      ]
    },
    {
      "cell_type": "markdown",
      "source": [
        "## 2.6 Computación: operadores y operandos\n",
        "### 1.  operadores son fichas/símbolos especiales que representan cálculos como suma, multiplicación y división\n",
        "2.   los valores que usa un operador se llaman operandos\n",
        "3.   algunos operadores binarios que toman dos operandos\n",
        "* suma: 10 + 20\n",
        "* resta: 20 - 10\n",
        "* división verdadera: 10 / 3\n",
        "* multiplicación: 7 * 9\n",
        "* división entera: 10 // 3\n",
        "* operador resto o módulo: 10 % 2\n",
        "* potencia: 2 ** 3"
      ],
      "metadata": {
        "id": "wryAmXcu9hjj"
      }
    },
    {
      "cell_type": "markdown",
      "source": [
        "Order of operations\n",
        "\n",
        "* depends on the rules of precedence\n",
        "uses PEMDAS rule from high to low order\n",
        "\n",
        "1. Parenthesis\n",
        "2. Exponentiation\n",
        "3. Multiplication and Division (left to right)\n",
        "4. Addition and Subtraction (left to right)"
      ],
      "metadata": {
        "id": "JRcDOemH-SmT"
      }
    },
    {
      "cell_type": "code",
      "source": [
        "print(2 * 3 ** 2)"
      ],
      "metadata": {
        "colab": {
          "base_uri": "https://localhost:8080/"
        },
        "id": "mS4bQH3M-dIx",
        "outputId": "2eeeb4f7-435e-4722-a606-afc4e4e2d38d"
      },
      "execution_count": 12,
      "outputs": [
        {
          "output_type": "stream",
          "name": "stdout",
          "text": [
            "18\n"
          ]
        }
      ]
    },
    {
      "cell_type": "code",
      "source": [
        "x = 1\n",
        "y = 2\n",
        "z = 3\n",
        "ans = x+y-z*y**y\n",
        "print(ans)"
      ],
      "metadata": {
        "colab": {
          "base_uri": "https://localhost:8080/"
        },
        "id": "ZSBACecW-j3J",
        "outputId": "222435e7-f1c3-4b72-9ebc-4a684a89f90e"
      },
      "execution_count": 13,
      "outputs": [
        {
          "output_type": "stream",
          "name": "stdout",
          "text": [
            "-9\n"
          ]
        }
      ]
    },
    {
      "cell_type": "markdown",
      "source": [
        "## 2.7 Operations on strings\n",
        "*  and * operators also work on strings"
      ],
      "metadata": {
        "id": "5SqVs7GxOmvz"
      }
    },
    {
      "cell_type": "code",
      "source": [
        "fname = \"Jhon\"\n",
        "lname ='Smith'\n",
        "fullName = fname + \" \" + lname\n",
        "print(fullName)"
      ],
      "metadata": {
        "colab": {
          "base_uri": "https://localhost:8080/"
        },
        "id": "6DnKZXZwOzvT",
        "outputId": "a568c301-e18a-40b4-bf70-cca29d120f73"
      },
      "execution_count": 15,
      "outputs": [
        {
          "output_type": "stream",
          "name": "stdout",
          "text": [
            "Jhon Smith\n"
          ]
        }
      ]
    },
    {
      "cell_type": "code",
      "source": [
        "gene ='AGT' *10\n",
        "print(gene)"
      ],
      "metadata": {
        "colab": {
          "base_uri": "https://localhost:8080/"
        },
        "id": "ItSQDcq5PFDa",
        "outputId": "ec0030a5-b0f5-4298-d2b9-1d607a54f394"
      },
      "execution_count": 16,
      "outputs": [
        {
          "output_type": "stream",
          "name": "stdout",
          "text": [
            "AGTAGTAGTAGTAGTAGTAGTAGTAGTAGT\n"
          ]
        }
      ]
    },
    {
      "cell_type": "code",
      "source": [
        "name = input(\"What is your name?\") #el ususario ingresa su nombre"
      ],
      "metadata": {
        "colab": {
          "base_uri": "https://localhost:8080/"
        },
        "id": "nFpF7LnoPPIg",
        "outputId": "8599340e-a10a-4bf5-9710-44c24f879a91"
      },
      "execution_count": 19,
      "outputs": [
        {
          "name": "stdout",
          "output_type": "stream",
          "text": [
            "What is your name? Maria\n"
          ]
        }
      ]
    },
    {
      "cell_type": "code",
      "source": [
        "print('hello, ', name)"
      ],
      "metadata": {
        "colab": {
          "base_uri": "https://localhost:8080/"
        },
        "id": "_-JirCO8PXcB",
        "outputId": "b3c0d00e-d1c1-420b-fb9c-2d330aec209c"
      },
      "execution_count": 20,
      "outputs": [
        {
          "output_type": "stream",
          "name": "stdout",
          "text": [
            "hello,   Maria\n"
          ]
        }
      ]
    },
    {
      "cell_type": "code",
      "source": [
        "num = input('Introduce un número =>')\n",
        "print('Tu número es: ', num)\n",
        "print('El tipo del', num, '=', type(num))"
      ],
      "metadata": {
        "colab": {
          "base_uri": "https://localhost:8080/"
        },
        "id": "FzEExWsrPs_E",
        "outputId": "931606d8-6aa2-47f1-86ef-4d01c87aef58"
      },
      "execution_count": 21,
      "outputs": [
        {
          "output_type": "stream",
          "name": "stdout",
          "text": [
            "Introduce un número => 23.14\n",
            "Tu número es:   23.14\n",
            "El tipo del  23.14 = <class 'str'>\n"
          ]
        }
      ]
    },
    {
      "cell_type": "code",
      "source": [
        "# str  must be casted into int or float depending on the value required\n",
        "num2 =float(num)\n",
        "print('type of', num, '=', type(num2))"
      ],
      "metadata": {
        "colab": {
          "base_uri": "https://localhost:8080/"
        },
        "id": "D8R8cXE3SWQW",
        "outputId": "9236c155-1b26-4457-946a-9b02d55a4725"
      },
      "execution_count": 22,
      "outputs": [
        {
          "output_type": "stream",
          "name": "stdout",
          "text": [
            "type of  23.14 = <class 'float'>\n"
          ]
        }
      ]
    },
    {
      "cell_type": "markdown",
      "source": [
        "#Ejercicio 1  \n",
        "#Área y perímetro de un rectángulo\n",
        "### Escriba un script de python que calcule el área y el perímetro de un rectángulo"
      ],
      "metadata": {
        "id": "ruKuIwc_TP-u"
      }
    },
    {
      "cell_type": "code",
      "source": [
        "# Demuestra la composición paso a paso\n",
        "# Pasos del algoritmo\n",
        "# 1. Obtenga la longitud y el ancho de un rectángulo\n",
        "#     a. valores codificados O\n",
        "#     b. solicitar al usuario que introduzca los valores de largo y ancho\n",
        "#        i. convertir la longitud y el ancho en tipos de datos correctos\n",
        "# 2. Encuentra el área = largo x ancho\n",
        "# 3. Encuentra el perímetro = 2 (largo + ancho)\n",
        "# 4. Mostrar resultados calculados"
      ],
      "metadata": {
        "id": "S4qYb5c-TgMs"
      },
      "execution_count": null,
      "outputs": []
    },
    {
      "cell_type": "code",
      "source": [
        "x = input('Introduce un número: ')\n",
        "x2 = float(x)"
      ],
      "metadata": {
        "colab": {
          "base_uri": "https://localhost:8080/"
        },
        "id": "dleBQDARWqz1",
        "outputId": "d2f6f24a-2e9c-4c90-9d30-30dcb520d2dd"
      },
      "execution_count": 23,
      "outputs": [
        {
          "name": "stdout",
          "output_type": "stream",
          "text": [
            "Introduce un número: 6.6\n"
          ]
        }
      ]
    },
    {
      "cell_type": "code",
      "source": [
        "y = float(input('Introduce un número: '))"
      ],
      "metadata": {
        "colab": {
          "base_uri": "https://localhost:8080/"
        },
        "id": "qe2uep1XW2o2",
        "outputId": "5d029daf-40de-4838-b506-b1de7a47159d"
      },
      "execution_count": 31,
      "outputs": [
        {
          "name": "stdout",
          "output_type": "stream",
          "text": [
            "Introduce un número: 9.8\n"
          ]
        }
      ]
    },
    {
      "cell_type": "code",
      "source": [
        "area = x2 * y\n",
        "print('El área es: ', area)"
      ],
      "metadata": {
        "colab": {
          "base_uri": "https://localhost:8080/"
        },
        "id": "bwE3PYcHW94P",
        "outputId": "bf3da7e0-4f8b-48c3-fd1c-de2507af2117"
      },
      "execution_count": 30,
      "outputs": [
        {
          "output_type": "stream",
          "name": "stdout",
          "text": [
            "El área es:  64.68\n"
          ]
        }
      ]
    },
    {
      "cell_type": "code",
      "source": [
        "perimetro = (2*x2) + (2*y)\n",
        "print('El perímetro es: ', perimetro)"
      ],
      "metadata": {
        "colab": {
          "base_uri": "https://localhost:8080/"
        },
        "id": "OOJYkvd9XWjv",
        "outputId": "80fdb0e7-4c90-4a67-e078-ceefdd4c5019"
      },
      "execution_count": 32,
      "outputs": [
        {
          "output_type": "stream",
          "name": "stdout",
          "text": [
            "El perímetro es:  32.8\n"
          ]
        }
      ]
    },
    {
      "cell_type": "markdown",
      "source": [
        "## Ejercicio 2 Área y circunferencia de un círculo\n",
        "### *   escribir un script de python que calcule el área y la circunferencia de un círculo\n",
        "*   el área de un círculo se calcula usando la ecuación:  πr2\n",
        "*   el perímetro de un círculo se calcula usando la ecuación:  2πr\n",
        "*   puedes usar  π=3.14159"
      ],
      "metadata": {
        "id": "lOfug1WqZqY3"
      }
    },
    {
      "cell_type": "code",
      "source": [
        "# Demostración de paso a paso\n",
        "# Pasos del algoritmo\n",
        "# 1. Solicitar el radio del circulo\n",
        "# 2. Convertir la variable en float\n",
        "# 3. Declarar la constante de Pi\n",
        "# 4. Aplicar la formula de área y mostrar resultado A=Pi* r**2\n",
        "# 5. Aplicar la formula de perimetro y mostrar resultado P=2*Pi*r"
      ],
      "metadata": {
        "id": "d3iWJG4iZ0OV"
      },
      "execution_count": null,
      "outputs": []
    },
    {
      "cell_type": "code",
      "source": [
        "r = input('Introduce el radio del círculo:  ')\n",
        "radio = float(r)"
      ],
      "metadata": {
        "colab": {
          "base_uri": "https://localhost:8080/"
        },
        "id": "PPeVOlZImlcj",
        "outputId": "cb4716b7-2020-4d70-bf63-bb14152f7cc9"
      },
      "execution_count": 45,
      "outputs": [
        {
          "name": "stdout",
          "output_type": "stream",
          "text": [
            "Introduce el radio del círculo:  6.2\n"
          ]
        }
      ]
    },
    {
      "cell_type": "code",
      "source": [
        "pi = 3.14159"
      ],
      "metadata": {
        "id": "Eftd14D1nraP"
      },
      "execution_count": 36,
      "outputs": []
    },
    {
      "cell_type": "code",
      "source": [
        "area = pi * radio * radio\n",
        "print('El área del círculo es: ', area)"
      ],
      "metadata": {
        "colab": {
          "base_uri": "https://localhost:8080/"
        },
        "id": "3vGxeA7YnwAt",
        "outputId": "4772dc31-7084-45e4-a0ca-c9a90e3da163"
      },
      "execution_count": 47,
      "outputs": [
        {
          "output_type": "stream",
          "name": "stdout",
          "text": [
            "El área del círculo es:  120.76271960000001\n"
          ]
        }
      ]
    },
    {
      "cell_type": "code",
      "source": [
        "perimetro = 2 * pi * radio\n",
        "print('El perímetro del círculo es: ', perimetro)"
      ],
      "metadata": {
        "colab": {
          "base_uri": "https://localhost:8080/"
        },
        "id": "IuAgrVgyoDAq",
        "outputId": "c90d2988-6841-464e-81ac-b7928ab363f5"
      },
      "execution_count": 48,
      "outputs": [
        {
          "output_type": "stream",
          "name": "stdout",
          "text": [
            "El perímetro del círculo es:  38.955716\n"
          ]
        }
      ]
    },
    {
      "cell_type": "code",
      "source": [],
      "metadata": {
        "id": "UbaRLO8Jo88i"
      },
      "execution_count": null,
      "outputs": []
    }
  ]
}