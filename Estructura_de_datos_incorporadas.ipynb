{
  "nbformat": 4,
  "nbformat_minor": 0,
  "metadata": {
    "colab": {
      "provenance": [],
      "authorship_tag": "ABX9TyMtP5kktemzphK+U+3fHVNE",
      "include_colab_link": true
    },
    "kernelspec": {
      "name": "python3",
      "display_name": "Python 3"
    },
    "language_info": {
      "name": "python"
    }
  },
  "cells": [
    {
      "cell_type": "markdown",
      "metadata": {
        "id": "view-in-github",
        "colab_type": "text"
      },
      "source": [
        "<a href=\"https://colab.research.google.com/github/MariaLanderos/Curso-Python-2023/blob/main/Estructura_de_datos_incorporadas.ipynb\" target=\"_parent\"><img src=\"https://colab.research.google.com/assets/colab-badge.svg\" alt=\"Open In Colab\"/></a>"
      ]
    },
    {
      "cell_type": "code",
      "execution_count": 1,
      "metadata": {
        "colab": {
          "base_uri": "https://localhost:8080/"
        },
        "id": "cluSKEcxGSu3",
        "outputId": "806cfb79-d5f3-4e47-fd96-382ed7f24e90"
      },
      "outputs": [
        {
          "output_type": "stream",
          "name": "stdout",
          "text": [
            "['manzana', 'naranja', 'plátano', 'mango']\n"
          ]
        }
      ],
      "source": [
        "# Operación 'append': Agregar un elemento al final de la lista\n",
        "frutas = ['manzana', 'naranja', 'plátano']\n",
        "frutas.append('mango')\n",
        "print(frutas)\n"
      ]
    },
    {
      "cell_type": "code",
      "source": [
        "# Operación 'extend': Extender una lista agregando elementos de otra lista\n",
        "frutas_adicionales = ['pera', 'uva']\n",
        "frutas.extend(frutas_adicionales)\n",
        "print(frutas)"
      ],
      "metadata": {
        "colab": {
          "base_uri": "https://localhost:8080/"
        },
        "id": "_RD1bH9IGZdJ",
        "outputId": "16507ff2-6d80-4dd7-f930-16e0fb77d016"
      },
      "execution_count": 2,
      "outputs": [
        {
          "output_type": "stream",
          "name": "stdout",
          "text": [
            "['manzana', 'naranja', 'plátano', 'mango', 'pera', 'uva']\n"
          ]
        }
      ]
    },
    {
      "cell_type": "code",
      "source": [
        "# Operación 'insert': Insertar un elemento en una posición específica\n",
        "frutas.insert(2, 'kiwi')\n",
        "print(frutas)"
      ],
      "metadata": {
        "colab": {
          "base_uri": "https://localhost:8080/"
        },
        "id": "ue_kNvnIGeIi",
        "outputId": "f6ecbac9-5ab3-4583-f64a-731f4036c76b"
      },
      "execution_count": 3,
      "outputs": [
        {
          "output_type": "stream",
          "name": "stdout",
          "text": [
            "['manzana', 'naranja', 'kiwi', 'plátano', 'mango', 'pera', 'uva']\n"
          ]
        }
      ]
    },
    {
      "cell_type": "code",
      "source": [
        "# Operación 'remove': Eliminar el primer elemento de la lista que coincida con un valor dado\n",
        "frutas.remove('plátano')\n",
        "print(frutas)"
      ],
      "metadata": {
        "colab": {
          "base_uri": "https://localhost:8080/"
        },
        "id": "F8Yv_8HHGhkb",
        "outputId": "f1dd1b0e-fa9a-47d5-a154-a53fb8768533"
      },
      "execution_count": 4,
      "outputs": [
        {
          "output_type": "stream",
          "name": "stdout",
          "text": [
            "['manzana', 'naranja', 'kiwi', 'mango', 'pera', 'uva']\n"
          ]
        }
      ]
    },
    {
      "cell_type": "code",
      "source": [
        "# Operación 'pop': Eliminar y devolver el elemento en una posición específica\n",
        "fruta_eliminada = frutas.pop(2)\n",
        "print(\"Fruta eliminada:\", fruta_eliminada)\n",
        "print(frutas)"
      ],
      "metadata": {
        "colab": {
          "base_uri": "https://localhost:8080/"
        },
        "id": "deLHHBskGq9d",
        "outputId": "dcc4f1e7-b7c9-4347-a764-0d380ae02fd0"
      },
      "execution_count": 5,
      "outputs": [
        {
          "output_type": "stream",
          "name": "stdout",
          "text": [
            "Fruta eliminada: kiwi\n",
            "['manzana', 'naranja', 'mango', 'pera', 'uva']\n"
          ]
        }
      ]
    },
    {
      "cell_type": "code",
      "source": [
        "frutas = ['manzana', 'naranja', 'plátano', 'mango', 'pera', 'uva']\n",
        "\n",
        "# Obtener un subconjunto de la lista utilizando slicing\n",
        "subconjunto1 = frutas[1:4]  # Desde el índice 1 (inclusive) hasta el índice 4 (exclusivo)\n",
        "print(subconjunto1)\n",
        "subconjunto2 = frutas[:3]  # Desde el inicio hasta el índice 3 (exclusivo)\n",
        "print(subconjunto2)\n",
        "subconjunto3 = frutas[3:]  # Desde el índice 3 (inclusive) hasta el final\n",
        "print(subconjunto3)\n",
        "subconjunto4 = frutas[::2]  # Desde el inicio hasta el final con un paso de 2\n",
        "print(subconjunto4)"
      ],
      "metadata": {
        "colab": {
          "base_uri": "https://localhost:8080/"
        },
        "id": "YoATOux9GuxI",
        "outputId": "0727a387-0481-4f7b-b7e0-ac4756ad3019"
      },
      "execution_count": 6,
      "outputs": [
        {
          "output_type": "stream",
          "name": "stdout",
          "text": [
            "['naranja', 'plátano', 'mango']\n",
            "['manzana', 'naranja', 'plátano']\n",
            "['mango', 'pera', 'uva']\n",
            "['manzana', 'plátano', 'pera']\n"
          ]
        }
      ]
    },
    {
      "cell_type": "markdown",
      "source": [
        "- Todas las funciones integradas se enumeran aquí con ejemplos: https://docs.python.org/3/library/functions.html\n",
        "\n",
        "\n",
        "## Función built-in ** zip() **  \n",
        "- La función zip incorporada puede ayudarnos a crear rápidamente una lista de tuplas y luego un diccionario"
      ],
      "metadata": {
        "id": "tvY1yKTNHFxk"
      }
    },
    {
      "cell_type": "code",
      "source": [
        "help(zip)"
      ],
      "metadata": {
        "colab": {
          "base_uri": "https://localhost:8080/"
        },
        "id": "41oBD0xsGytN",
        "outputId": "f6586d7f-eedf-43d1-834b-f40332085d47"
      },
      "execution_count": 7,
      "outputs": [
        {
          "output_type": "stream",
          "name": "stdout",
          "text": [
            "Help on class zip in module builtins:\n",
            "\n",
            "class zip(object)\n",
            " |  zip(*iterables, strict=False) --> Yield tuples until an input is exhausted.\n",
            " |  \n",
            " |     >>> list(zip('abcdefg', range(3), range(4)))\n",
            " |     [('a', 0, 0), ('b', 1, 1), ('c', 2, 2)]\n",
            " |  \n",
            " |  The zip object yields n-length tuples, where n is the number of iterables\n",
            " |  passed as positional arguments to zip().  The i-th element in every tuple\n",
            " |  comes from the i-th iterable argument to zip().  This continues until the\n",
            " |  shortest argument is exhausted.\n",
            " |  \n",
            " |  If strict is true and one of the arguments is exhausted before the others,\n",
            " |  raise a ValueError.\n",
            " |  \n",
            " |  Methods defined here:\n",
            " |  \n",
            " |  __getattribute__(self, name, /)\n",
            " |      Return getattr(self, name).\n",
            " |  \n",
            " |  __iter__(self, /)\n",
            " |      Implement iter(self).\n",
            " |  \n",
            " |  __next__(self, /)\n",
            " |      Implement next(self).\n",
            " |  \n",
            " |  __reduce__(...)\n",
            " |      Return state information for pickling.\n",
            " |  \n",
            " |  __setstate__(...)\n",
            " |      Set state information for unpickling.\n",
            " |  \n",
            " |  ----------------------------------------------------------------------\n",
            " |  Static methods defined here:\n",
            " |  \n",
            " |  __new__(*args, **kwargs) from builtins.type\n",
            " |      Create and return a new object.  See help(type) for accurate signature.\n",
            "\n"
          ]
        }
      ]
    },
    {
      "cell_type": "code",
      "source": [
        "zdata = zip([1, 2, 3], ('a', 'b', 'c'))"
      ],
      "metadata": {
        "id": "tl_2EnbKHLCJ"
      },
      "execution_count": 8,
      "outputs": []
    },
    {
      "cell_type": "code",
      "source": [
        "alist = list(zdata)"
      ],
      "metadata": {
        "id": "9mNuVnzCHO6O"
      },
      "execution_count": 9,
      "outputs": []
    },
    {
      "cell_type": "code",
      "source": [
        "alist"
      ],
      "metadata": {
        "colab": {
          "base_uri": "https://localhost:8080/"
        },
        "id": "OBsN-bP4HSWp",
        "outputId": "dcdacb42-8104-4183-b94a-adf1ecff89fc"
      },
      "execution_count": 10,
      "outputs": [
        {
          "output_type": "execute_result",
          "data": {
            "text/plain": [
              "[(1, 'a'), (2, 'b'), (3, 'c')]"
            ]
          },
          "metadata": {},
          "execution_count": 10
        }
      ]
    },
    {
      "cell_type": "code",
      "source": [
        "# create dict\n",
        "adict = dict(alist)\n",
        "print(adict)"
      ],
      "metadata": {
        "colab": {
          "base_uri": "https://localhost:8080/"
        },
        "id": "7ocrH9BMHYHf",
        "outputId": "d8d0176a-59dc-410a-d75a-d3f0dd1a8a35"
      },
      "execution_count": 11,
      "outputs": [
        {
          "output_type": "stream",
          "name": "stdout",
          "text": [
            "{1: 'a', 2: 'b', 3: 'c'}\n"
          ]
        }
      ]
    },
    {
      "cell_type": "markdown",
      "source": [
        "## exercise\n",
        "Create a dict that maps lowercase alphabets to integers, e.g., a maps to 1, b maps to 2, ..., z maps to 26 and print it"
      ],
      "metadata": {
        "id": "u2Aff16_HgsX"
      }
    },
    {
      "cell_type": "code",
      "source": [
        "import string\n",
        "lettersToDigits = dict(zip(string.ascii_lowercase, range(1, 27)))  #se crea alfabeto a-z"
      ],
      "metadata": {
        "id": "xHQ5taNBHcyB"
      },
      "execution_count": 14,
      "outputs": []
    },
    {
      "cell_type": "code",
      "source": [
        "print(lettersToDigits)"
      ],
      "metadata": {
        "colab": {
          "base_uri": "https://localhost:8080/"
        },
        "id": "m5nDp8hcHvX7",
        "outputId": "270d2216-aacf-473c-9706-9b2340156241"
      },
      "execution_count": 13,
      "outputs": [
        {
          "output_type": "stream",
          "name": "stdout",
          "text": [
            "{'a': 1, 'b': 2, 'c': 3, 'd': 4, 'e': 5, 'f': 6, 'g': 7, 'h': 8, 'i': 9, 'j': 10, 'k': 11, 'l': 12, 'm': 13, 'n': 14, 'o': 15, 'p': 16, 'q': 17, 'r': 18, 's': 19, 't': 20, 'u': 21, 'v': 22, 'w': 23, 'x': 24, 'y': 25, 'z': 26}\n"
          ]
        }
      ]
    },
    {
      "cell_type": "code",
      "source": [
        "# Crear un diccionario que mapee letras minúsculas del alfabeto a enteros\n",
        "alphabet_to_integer = {chr(96 + i): i for i in range(1, 27)}\n",
        "\n",
        "# Imprimir el diccionario\n",
        "print(alphabet_to_integer)"
      ],
      "metadata": {
        "colab": {
          "base_uri": "https://localhost:8080/"
        },
        "id": "SlvLRpNgH9dW",
        "outputId": "98278d3d-324e-4f21-a134-a0c366ad30a0"
      },
      "execution_count": 15,
      "outputs": [
        {
          "output_type": "stream",
          "name": "stdout",
          "text": [
            "{'a': 1, 'b': 2, 'c': 3, 'd': 4, 'e': 5, 'f': 6, 'g': 7, 'h': 8, 'i': 9, 'j': 10, 'k': 11, 'l': 12, 'm': 13, 'n': 14, 'o': 15, 'p': 16, 'q': 17, 'r': 18, 's': 19, 't': 20, 'u': 21, 'v': 22, 'w': 23, 'x': 24, 'y': 25, 'z': 26}\n"
          ]
        }
      ]
    },
    {
      "cell_type": "markdown",
      "source": [
        "## Tipos de conjuntos: conjunto, conjunto congelado\n",
        "- https://docs.python.org/3/library/stdtypes.html#set\n",
        "- como objeto establecido es una colección desordenada de distintos objetos hashable\n",
        "- el conjunto es mutable\n",
        "- frozenset es inmutable"
      ],
      "metadata": {
        "id": "vDm_WZk_IjDD"
      }
    },
    {
      "cell_type": "code",
      "source": [
        "# Crear un diccionario que mapee letras minúsculas del alfabeto a enteros\n",
        "alfabeto_a_enteros = {chr(96 + i): i for i in range(1, 27)}\n",
        "\n",
        "# Imprimir el diccionario\n",
        "print(alfabeto_a_enteros)# Crear un conjunto normal\n",
        "conjunto_normal = {1, 2, 3}\n",
        "print(conjunto_normal)  # Salida: {1, 2, 3}\n",
        "\n",
        "# Intentar agregar un elemento al conjunto normal\n",
        "conjunto_normal.add(4)  # Funciona, el conjunto se modifica\n",
        "print(conjunto_normal)  # Salida: {1, 2, 3, 4}\n",
        "\n",
        "# Crear un frozenset\n",
        "frozenset_ejemplo = frozenset({1, 2, 3})\n",
        "print(frozenset_ejemplo)  # Salida: frozenset({1, 2, 3})\n",
        "\n",
        "# Intentar agregar un elemento al frozenset (esto dará un error)\n",
        "frozenset_ejemplo.add(4)  # Error: 'frozenset' object has no attribute 'add'"
      ],
      "metadata": {
        "colab": {
          "base_uri": "https://localhost:8080/",
          "height": 307
        },
        "id": "SN9FEFfsIHZc",
        "outputId": "664b99a5-a89f-4f2e-cef6-8e23688e4871"
      },
      "execution_count": 17,
      "outputs": [
        {
          "output_type": "stream",
          "name": "stdout",
          "text": [
            "{'a': 1, 'b': 2, 'c': 3, 'd': 4, 'e': 5, 'f': 6, 'g': 7, 'h': 8, 'i': 9, 'j': 10, 'k': 11, 'l': 12, 'm': 13, 'n': 14, 'o': 15, 'p': 16, 'q': 17, 'r': 18, 's': 19, 't': 20, 'u': 21, 'v': 22, 'w': 23, 'x': 24, 'y': 25, 'z': 26}\n",
            "{1, 2, 3}\n",
            "{1, 2, 3, 4}\n",
            "frozenset({1, 2, 3})\n"
          ]
        },
        {
          "output_type": "error",
          "ename": "AttributeError",
          "evalue": "ignored",
          "traceback": [
            "\u001b[0;31m---------------------------------------------------------------------------\u001b[0m",
            "\u001b[0;31mAttributeError\u001b[0m                            Traceback (most recent call last)",
            "\u001b[0;32m<ipython-input-17-4a36e094630b>\u001b[0m in \u001b[0;36m<cell line: 18>\u001b[0;34m()\u001b[0m\n\u001b[1;32m     16\u001b[0m \u001b[0;34m\u001b[0m\u001b[0m\n\u001b[1;32m     17\u001b[0m \u001b[0;31m# Intentar agregar un elemento al frozenset (esto dará un error)\u001b[0m\u001b[0;34m\u001b[0m\u001b[0;34m\u001b[0m\u001b[0m\n\u001b[0;32m---> 18\u001b[0;31m \u001b[0mfrozenset_ejemplo\u001b[0m\u001b[0;34m.\u001b[0m\u001b[0madd\u001b[0m\u001b[0;34m(\u001b[0m\u001b[0;36m4\u001b[0m\u001b[0;34m)\u001b[0m  \u001b[0;31m# Error: 'frozenset' object has no attribute 'add'\u001b[0m\u001b[0;34m\u001b[0m\u001b[0;34m\u001b[0m\u001b[0m\n\u001b[0m",
            "\u001b[0;31mAttributeError\u001b[0m: 'frozenset' object has no attribute 'add'"
          ]
        }
      ]
    },
    {
      "cell_type": "code",
      "source": [
        "# crear un conjunto de una lista\n",
        "aset = set([1, 2, 1, 3, 'hello', 'hi', 3])"
      ],
      "metadata": {
        "id": "xocjMYWMIMXf"
      },
      "execution_count": 18,
      "outputs": []
    },
    {
      "cell_type": "code",
      "source": [
        "# revisar la longitud de la lista\n",
        "\n",
        "len(aset)"
      ],
      "metadata": {
        "colab": {
          "base_uri": "https://localhost:8080/"
        },
        "id": "MJsBxVs_JKCb",
        "outputId": "6d2672ac-3591-4e0e-8a49-0fc94f97fd8c"
      },
      "execution_count": 19,
      "outputs": [
        {
          "output_type": "execute_result",
          "data": {
            "text/plain": [
              "5"
            ]
          },
          "metadata": {},
          "execution_count": 19
        }
      ]
    },
    {
      "cell_type": "code",
      "source": [
        "print(aset)"
      ],
      "metadata": {
        "colab": {
          "base_uri": "https://localhost:8080/"
        },
        "id": "Sr4DvuP-JMf1",
        "outputId": "06f50785-277c-4203-aedb-9376a22abfc3"
      },
      "execution_count": 20,
      "outputs": [
        {
          "output_type": "stream",
          "name": "stdout",
          "text": [
            "{1, 2, 3, 'hi', 'hello'}\n"
          ]
        }
      ]
    },
    {
      "cell_type": "code",
      "source": [
        "# membership test\n",
        "'hi' in aset"
      ],
      "metadata": {
        "colab": {
          "base_uri": "https://localhost:8080/"
        },
        "id": "LKPVyHOVJR5b",
        "outputId": "b816bb68-7dda-467e-ba93-86a2c8944570"
      },
      "execution_count": 21,
      "outputs": [
        {
          "output_type": "execute_result",
          "data": {
            "text/plain": [
              "True"
            ]
          },
          "metadata": {},
          "execution_count": 21
        }
      ]
    },
    {
      "cell_type": "code",
      "source": [
        "'Hi' in aset"
      ],
      "metadata": {
        "colab": {
          "base_uri": "https://localhost:8080/"
        },
        "id": "KBjUAHlbJVMc",
        "outputId": "44fd6df9-1b53-404c-8e50-87761d80200d"
      },
      "execution_count": 22,
      "outputs": [
        {
          "output_type": "execute_result",
          "data": {
            "text/plain": [
              "False"
            ]
          },
          "metadata": {},
          "execution_count": 22
        }
      ]
    },
    {
      "cell_type": "markdown",
      "source": [
        "En Python, \"**set**\" es un tipo de dato que representa una colección no ordenada y mutable de elementos únicos. En otras palabras, un conjunto es una colección que no admite elementos duplicados y cuyo orden no está garantizado. Los conjuntos en Python son similares a los conjuntos matemáticos y se pueden usar para realizar operaciones comunes de conjuntos como unión, intersección y diferencia.\n",
        "\n",
        "Características clave de los conjuntos en Python:\n",
        "\n",
        "- No admiten duplicados: Un conjunto no puede contener elementos duplicados. Si intentas agregar un elemento que ya está presente, no se agregaría nuevamente.\n",
        "\n",
        "- No están ordenados: Los elementos de un conjunto no tienen un orden específico. Cuando se iteran sobre un conjunto, los elementos se devuelven en un orden aparentemente aleatorio.\n",
        "\n",
        "- Son mutables: Puedes modificar un conjunto después de crearlo. Puedes agregar y eliminar elementos.\n",
        "\n",
        "- Usan llaves {} o la función set(): Puedes crear un conjunto utilizando llaves {} o la función set()."
      ],
      "metadata": {
        "id": "q6i_ESlLJbM4"
      }
    },
    {
      "cell_type": "code",
      "source": [
        "# ver todos los métodos en conjunto\n",
        "#help(set)"
      ],
      "metadata": {
        "id": "16B6_iF0JXul"
      },
      "execution_count": 23,
      "outputs": []
    },
    {
      "cell_type": "code",
      "source": [
        "aset.add(100)    # suma 100 nuevamente; ningún efecto ya que 100 ya es miembro de aset"
      ],
      "metadata": {
        "id": "8t-7T4sFJf54"
      },
      "execution_count": 24,
      "outputs": []
    },
    {
      "cell_type": "code",
      "source": [
        "aset"
      ],
      "metadata": {
        "colab": {
          "base_uri": "https://localhost:8080/"
        },
        "id": "pvYzpYAHJmGk",
        "outputId": "86e2abfa-7317-43a0-90a5-2b4faf4f8c0f"
      },
      "execution_count": 25,
      "outputs": [
        {
          "output_type": "execute_result",
          "data": {
            "text/plain": [
              "{1, 100, 2, 3, 'hello', 'hi'}"
            ]
          },
          "metadata": {},
          "execution_count": 25
        }
      ]
    },
    {
      "cell_type": "code",
      "source": [
        "bset = frozenset(aset)"
      ],
      "metadata": {
        "id": "3MXjqeSpJoIn"
      },
      "execution_count": 27,
      "outputs": []
    },
    {
      "cell_type": "code",
      "source": [
        "bset"
      ],
      "metadata": {
        "colab": {
          "base_uri": "https://localhost:8080/"
        },
        "id": "Kr4WfXWfKe3Q",
        "outputId": "15c451ec-9f4e-4573-b39e-e8471e0a1b42"
      },
      "execution_count": 28,
      "outputs": [
        {
          "output_type": "execute_result",
          "data": {
            "text/plain": [
              "frozenset({1, 100, 2, 3, 'hello', 'hi'})"
            ]
          },
          "metadata": {},
          "execution_count": 28
        }
      ]
    },
    {
      "cell_type": "markdown",
      "source": [
        "En Python, \"**frozenset**\" es un tipo de dato que representa un conjunto inmutable. A diferencia de los conjuntos normales (tipo \"set\"), que son mutables y pueden cambiar su contenido, los \"frozenset\" son inmutables, lo que significa que una vez creados, no se pueden modificar, agregar ni eliminar elementos.\n",
        "\n",
        "Los \"**frozenset**\" son muy útiles cuando necesitas utilizar conjuntos como claves en un diccionario de Python, ya que los conjuntos normales no pueden ser claves debido a su mutabilidad. Al ser inmutables, los \"**frozenset**\" tienen una función hash estable, lo que los hace adecuados para su uso como claves en diccionarios.\n",
        "\n",
        "Para crear un \"**frozenset**\", se utiliza la función frozenset(). Aquí hay un ejemplo:\n",
        "\n",
        "python\n",
        "C"
      ],
      "metadata": {
        "id": "Kv3jNkYlKmIU"
      }
    },
    {
      "cell_type": "code",
      "source": [
        "#help(frozenset)"
      ],
      "metadata": {
        "id": "Px5vDpyYKi0q"
      },
      "execution_count": 29,
      "outputs": []
    },
    {
      "cell_type": "code",
      "source": [
        "# Crear un frozenset\n",
        "conjunto_normal = {1, 2, 3}\n",
        "frozenset_ejemplo = frozenset(conjunto_normal)\n",
        "\n",
        "print(frozenset_ejemplo)  # Salida: frozenset({1, 2, 3})\n",
        "\n",
        "# Intentar agregar un elemento al frozenset (esto dará un error)\n",
        "frozenset_ejemplo.add(4)  # Error: 'frozenset' object has no attribute 'add'"
      ],
      "metadata": {
        "colab": {
          "base_uri": "https://localhost:8080/",
          "height": 235
        },
        "id": "yXchDgg0KrF_",
        "outputId": "a30834da-23a5-4d9f-f38a-482b62822ebe"
      },
      "execution_count": 30,
      "outputs": [
        {
          "output_type": "stream",
          "name": "stdout",
          "text": [
            "frozenset({1, 2, 3})\n"
          ]
        },
        {
          "output_type": "error",
          "ename": "AttributeError",
          "evalue": "ignored",
          "traceback": [
            "\u001b[0;31m---------------------------------------------------------------------------\u001b[0m",
            "\u001b[0;31mAttributeError\u001b[0m                            Traceback (most recent call last)",
            "\u001b[0;32m<ipython-input-30-3f8c12222d9a>\u001b[0m in \u001b[0;36m<cell line: 8>\u001b[0;34m()\u001b[0m\n\u001b[1;32m      6\u001b[0m \u001b[0;34m\u001b[0m\u001b[0m\n\u001b[1;32m      7\u001b[0m \u001b[0;31m# Intentar agregar un elemento al frozenset (esto dará un error)\u001b[0m\u001b[0;34m\u001b[0m\u001b[0;34m\u001b[0m\u001b[0m\n\u001b[0;32m----> 8\u001b[0;31m \u001b[0mfrozenset_ejemplo\u001b[0m\u001b[0;34m.\u001b[0m\u001b[0madd\u001b[0m\u001b[0;34m(\u001b[0m\u001b[0;36m4\u001b[0m\u001b[0;34m)\u001b[0m  \u001b[0;31m# Error: 'frozenset' object has no attribute 'add'\u001b[0m\u001b[0;34m\u001b[0m\u001b[0;34m\u001b[0m\u001b[0m\n\u001b[0m",
            "\u001b[0;31mAttributeError\u001b[0m: 'frozenset' object has no attribute 'add'"
          ]
        }
      ]
    },
    {
      "cell_type": "code",
      "source": [
        "intersection = bset.intersection(aset)"
      ],
      "metadata": {
        "id": "G6c9bgkZK0Rd"
      },
      "execution_count": 31,
      "outputs": []
    },
    {
      "cell_type": "code",
      "source": [
        "intersection"
      ],
      "metadata": {
        "colab": {
          "base_uri": "https://localhost:8080/"
        },
        "id": "0lB0KgIwK3t1",
        "outputId": "462a766a-4e86-4fe6-e265-ac8cb6cb9ce6"
      },
      "execution_count": 32,
      "outputs": [
        {
          "output_type": "execute_result",
          "data": {
            "text/plain": [
              "frozenset({1, 100, 2, 3, 'hello', 'hi'})"
            ]
          },
          "metadata": {},
          "execution_count": 32
        }
      ]
    },
    {
      "cell_type": "code",
      "source": [
        "cset = aset.copy()"
      ],
      "metadata": {
        "id": "RrewpG5kK5Gd"
      },
      "execution_count": 33,
      "outputs": []
    },
    {
      "cell_type": "code",
      "source": [
        "cset.add(500)\n",
        "print(cset.intersection(aset))"
      ],
      "metadata": {
        "colab": {
          "base_uri": "https://localhost:8080/"
        },
        "id": "knGiNTXjK6Zm",
        "outputId": "c34fa10a-490d-4ae0-dccc-fff1c6d5bbe6"
      },
      "execution_count": 34,
      "outputs": [
        {
          "output_type": "stream",
          "name": "stdout",
          "text": [
            "{1, 2, 3, 100, 'hi', 'hello'}\n"
          ]
        }
      ]
    },
    {
      "cell_type": "code",
      "source": [
        "cset.union(aset)"
      ],
      "metadata": {
        "colab": {
          "base_uri": "https://localhost:8080/"
        },
        "id": "cV-m_1p3Tgq8",
        "outputId": "dc99223b-9761-4787-fee2-a8c0c64f2a59"
      },
      "execution_count": 35,
      "outputs": [
        {
          "output_type": "execute_result",
          "data": {
            "text/plain": [
              "{1, 100, 2, 3, 500, 'hello', 'hi'}"
            ]
          },
          "metadata": {},
          "execution_count": 35
        }
      ]
    },
    {
      "cell_type": "code",
      "source": [],
      "metadata": {
        "id": "smriSC-YTjlx"
      },
      "execution_count": null,
      "outputs": []
    }
  ]
}