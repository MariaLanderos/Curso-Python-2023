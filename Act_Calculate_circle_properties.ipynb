{
  "nbformat": 4,
  "nbformat_minor": 0,
  "metadata": {
    "colab": {
      "provenance": [],
      "authorship_tag": "ABX9TyPBetFXUt/pS9SdSm6d9oWz",
      "include_colab_link": true
    },
    "kernelspec": {
      "name": "python3",
      "display_name": "Python 3"
    },
    "language_info": {
      "name": "python"
    }
  },
  "cells": [
    {
      "cell_type": "markdown",
      "metadata": {
        "id": "view-in-github",
        "colab_type": "text"
      },
      "source": [
        "<a href=\"https://colab.research.google.com/github/MariaLanderos/Curso-Python-2023/blob/main/Act_Calculate_circle_properties.ipynb\" target=\"_parent\"><img src=\"https://colab.research.google.com/assets/colab-badge.svg\" alt=\"Open In Colab\"/></a>"
      ]
    },
    {
      "cell_type": "markdown",
      "source": [
        "#Lab\n",
        "Crear una función similar a ´calculate_square_properties´ para un rectángulo o círculo, regrese 3 valores:\n",
        "- área\n",
        "- perímetro\n",
        "- color\n",
        "Nota: Tu función debería aceptar tres argumentos\n",
        "El tipo de dato esperado es una tupla (area, perimetro, color) ."
      ],
      "metadata": {
        "id": "S4jPZKekKm8z"
      }
    },
    {
      "cell_type": "code",
      "execution_count": 1,
      "metadata": {
        "colab": {
          "base_uri": "https://localhost:8080/"
        },
        "id": "euMg74uZE2oY",
        "outputId": "681a01c6-f09f-4d10-da9a-11c1a827c5db"
      },
      "outputs": [
        {
          "output_type": "execute_result",
          "data": {
            "text/plain": [
              "(28.27431, 18.849539999999998, 'rosa')"
            ]
          },
          "metadata": {},
          "execution_count": 1
        }
      ],
      "source": [
        "def circle_properties(r): #r = radio\n",
        "  pi = 3.14159\n",
        "  area = pi * r**2\n",
        "  perimetro = 2 * pi * r\n",
        "  color = \"rosa\"\n",
        "\n",
        "  return(area, perimetro, color)\n",
        "circle_properties(3)"
      ]
    },
    {
      "cell_type": "code",
      "source": [],
      "metadata": {
        "id": "I9lmsPG3O2JD"
      },
      "execution_count": null,
      "outputs": []
    }
  ]
}